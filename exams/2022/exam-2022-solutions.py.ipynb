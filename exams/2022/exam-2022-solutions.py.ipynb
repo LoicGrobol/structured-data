{
 "cells": [
  {
   "cell_type": "markdown",
   "id": "b27a674e",
   "metadata": {},
   "source": [
    "<!-- LTeX: language=fr -->\n",
    "Examen Données structurées 2022\n",
    "==============================="
   ]
  },
  {
   "cell_type": "markdown",
   "id": "a61247a9",
   "metadata": {},
   "source": [
    "## ATTENTION\n",
    "\n",
    "<small>Quelques rappels bien voyants pour ne pas que vous les manquiez</small>\n",
    "\n",
    "- **PENSEZ À TESTER VOTRE NOTEBOOK/SCRIPT EN L'EXÉCUTANT AVANT DE LE RENDRE**\n",
    "  - Dans le cas d'un notebook, vérifiez que ça marche aussi si vous faites « restart kernel and run\n",
    "    all »\n",
    "- **SAUVEGARDEZ RÉGULIÈREMENT VOTRE TRAVAIL**\n",
    "- **LISEZ LES CONSIGNES CI-DESSOUS ET VÉRIFIEZ QUE VOUS LES RESPECTEZ**"
   ]
  },
  {
   "cell_type": "markdown",
   "id": "9fb90162",
   "metadata": {},
   "source": [
    "## Consignes\n",
    "\n",
    "Vous travaillerez avec le fichier\n",
    "\n",
    "Vous produirez un **script** ou un **notebook** Python compatible avec Python 3.9\n",
    "\n",
    "Votre script ou notebook devra :\n",
    "\n",
    "- Ouvrir les fichiers\n",
    "  [`fr_sequoia-ud-train.conllu`](https://raw.githubusercontent.com/UniversalDependencies/UD_French-Sequoia/r2.9/fr_sequoia-ud-train.conllu)\n",
    "  et\n",
    "  [`fr_sequoia-sud-train.conllu`](https://sharedocs.huma-num.fr/wl/?id=lpoZ2kAIwONHyAD3tyS9pfE3Jl464Zlp&download=1),\n",
    "  supposés se trouver dans le même dossier que lui et représentant le sous-ensemble d'entraînement\n",
    "  du corpus Sequoia, respectivement dans sa version [Universal Dependencies\n",
    "  2.9](https://github.com/UniversalDependencies/UD_French-Sequoia/tree/r2.9) et [SUD\n",
    "  2.9](https://grew.fr/download/sud-treebanks-v2.9.tgz).\n",
    "  - Voir ci-dessous pour des commandes permettant de les télécharger sur vos machines.\n",
    "  - En cas de problème de téléchargement, appelez-moi tout de suite : je les ai aussi sur clé USB.\n",
    "- Afficher sur la sortie standard (par exemple avec `print`) une ligne et une seule par question.\n",
    "  - **N'afficher que la réponse et pas d'autre texte**\n",
    "  - Par exemple pour la question « Combien y a-t-il de jours dans une semaine ? » et que la variable\n",
    "  `days` contient `7`, répondez avec `print(days)`.\n",
    "  - Si vous n'avez pas réussi à répondre, affichez une ligne vide).\n",
    "- Ne produire aucune autre sortie\n",
    "- Autrement dit : un `print` et un seul par question, que vous rendiez un script ou un notebook.\n",
    "  - Astuce : si vous travaillez avec un notebook, vous pouvez le télécharger comme script et ainsi\n",
    "    tester plus facilement s'il affiche bien une ligne et une seule par question.\n",
    "- Termine en un temps raisonnable (disons moins de deux minutes sur votre machine).\n",
    "- Les réponses doivent bien évidemment être déduites du fichier par votre script et non pas codées\n",
    "  en dur.\n",
    "\n",
    "Votre rendu ne doit comporter qu'un seul fichier, nommé `{prénom}_{nom}.py` ou\n",
    "`{prénom}_{nom}.ipynb`, le prénom et le nom étant ceux sous lesquels vous êtes inscrit⋅e, en\n",
    "minuscules, sans diacritiques et le cas échéant transcrit en alphabet latin. Par exemple, en ce qui\n",
    "me concerne, ce serait `loic_grobol.py`.\n",
    "\n",
    "Vous pouvez utiliser tous les modules de la bibliothèque standard, tous les modules listés dans\n",
    "[`requirements.txt`](../../requirements.txt). Vous pouvez aussi utiliser n'importe quel autre module\n",
    "disponible sur [PyPI](https://pypi.org) (ce n'est pas nécessaire, ni utile à mon avis, mais si vous\n",
    "le faites, pensez à l'indiquer dans un commentaire ou une cellule markdown).\n",
    "\n",
    "Une fois terminé, envoyez ce script à <lgrobol@parisnanterre.fr> avec en objet `Examen données\n",
    "structurées` ou appelez-moi pour que je le récupère directement sur clé USB.\n",
    "\n",
    "Pour les questions auxquelles vous n'aurez pas fourni de réponse (et donc affiché une ligne vide),\n",
    "vous pouvez indiquer dans votre script des éléments de réponse partiels par des fragments de code ou\n",
    "des commentaires. Dans ce cas, assurez-vous que vous n'affichez bien qu'une ligne vide en réponse à\n",
    "cette question."
   ]
  },
  {
   "cell_type": "markdown",
   "id": "67599171",
   "metadata": {},
   "source": [
    "Commandes pour télécharger les treebanks :"
   ]
  },
  {
   "cell_type": "code",
   "execution_count": null,
   "id": "16b21b8b",
   "metadata": {},
   "outputs": [],
   "source": [
    "!wget -nc \"https://raw.githubusercontent.com/UniversalDependencies/UD_French-Sequoia/r2.9/fr_sequoia-ud-train.conllu\" -O \"fr_sequoia-ud-train.conllu\""
   ]
  },
  {
   "cell_type": "code",
   "execution_count": null,
   "id": "146c3b94",
   "metadata": {},
   "outputs": [],
   "source": [
    "!wget -nc \"https://sharedocs.huma-num.fr/wl/?id=lpoZ2kAIwONHyAD3tyS9pfE3Jl464Zlp&download=1\" -O \"fr_sequoia-sud-train.conllu\""
   ]
  },
  {
   "cell_type": "markdown",
   "id": "eb9325b7",
   "metadata": {},
   "source": [
    "## Questions\n",
    "\n",
    "- *Écrire des fonctions pour les opérations qui reviennent souvent est très fortement recommandé.*\n",
    "- *Dans tout ce qui suit, on parle de **mots** au sens de UD : les signes de ponctuation en font\n",
    "  partie et certains tokens peuvent correspondre à plusieurs mots — comme « du » en français qui\n",
    "  correspond aux mots « de » et « le ».*\n",
    "\n",
    "1. Quels sont vos noms et prénoms ?\n",
    "   - Répondre sous la forme d'une chaîne de caractères, comme `Loïc Grobol`.\n",
    "2. Combien d'arbres y a-t-il dans `fr_sequoia-ud-train.conllu` ?\n",
    "   - Répondre par un entier, par exemple `76`.\n",
    "3. Combien d'arbres y a-t-il dans `fr_sequoia-sud-train.conllu` et quelle est la longueur (en nombre\n",
    "   de mots, pas de tokens) du plus long ?\n",
    "   - Répondre par deux entiers séparés par un `|`, par exemple `1024|31`.\n",
    "4. Lister les arcs de l'arbre `annodis.er_00008` dans `fr_sequoia-ud-train.conllu` sous la forme\n",
    "   d'un dictionnaire dont les clés sont les dépendants et les valeurs sont les gouverneurs.\n",
    "   - Par exemple pour un arbre dont `1` est la racine et dont les arcs sont `1→4`, `4→2`et `4→3`,\n",
    "   afficher `{1: 0, 2: 4, 3: 4, 4: 1}`.\n",
    "5. Lister les arcs de l'arbre `annodis.er_00008` dans `fr_sequoia-ud-train.conllu` sous la forme\n",
    "   d'un dictionnaire dont les clés sont les gouverneurs et les valeurs sont les listes des\n",
    "   dépendants.\n",
    "   - Par exemple pour un arbre dont `1` est la racine et dont les arcs sont `1→4`, `4→2`et `4→3`\n",
    "   `{1: [4], 2: [], 3: [], 4: [2, 3]}`.\n",
    "6. Lister les sous-arbres de l'arbre `annodis.er_00008` dans `fr_sequoia-ud-train.conllu` sous la\n",
    "   forme d'un dictionnaire dont les clés sont les gouverneurs et les valeurs sont les listes des\n",
    "   descendants.\n",
    "   - Par exemple pour un arbre dont `1` est la racine et dont les arcs sont `1→4`, `4→2`et `4→3`,\n",
    "   afficher `{1: [2, 3, 4], 2: [], 3: [], 4: [2, 3]}`.\n",
    "7. On appelle **profondeur** d'un arbre, la longueur du plus long chemin allant de la racine de\n",
    "   l'arbre à un autre nœud. Afficher la profondeur moyenne des arbres des corpus\n",
    "   `fr_sequoia-ud-train.conllu` et `fr_sequoia-sud-train.conllu`.\n",
    "   - Afficher la réponse sous forme de deux nombres arrondis à deux chiffres après la virgule et\n",
    "     séparés par `|`, par exemple `10.05|11.22`.\n",
    "8. On dit qu'un arbre syntaxique en dépendances est **projectif** s'il n'a pas d'arcs qui se\n",
    "   croisent quand les mots sont alignés dans leur ordre d'apparition dans la phrase. Afficher la\n",
    "   proportion d'arbres projectifs dans les corpus `fr_sequoia-ud-train.conllu` et\n",
    "   `fr_sequoia-sud-train.conllu`.\n",
    "   - Afficher la réponse sous forme de deux pourcentages arrondis à deux chiffres après la virgule\n",
    "     et séparés par `|`, par exemple `98.05%|90.22%`.\n",
    "\n",
    "9. Pour les cracks :\n",
    "\n",
    "   Étant donné un arbre syntaxique en dépendances $A$ de $n$ mots et un entier $i$ tel que $1⩽i<n$,\n",
    "   on appelle **taille du flux de dépendances à la position $i$** le nombre $f_i(A)$ d'arcs $a⟷b$\n",
    "   (peu importe la direction) de cet arbre tel que $a⩽i<b$, et on note $f(A)=\\max_i f_i(A)$ la\n",
    "   valeur maximale de cette taille. Calculer les valeurs moyennes de $f$ pour les arbres du corpus\n",
    "   `fr_sequoia-ud-train.conllu` et du corpus `fr_sequoia-sud-train.conllu`.\n",
    "\n",
    "   Afficher le résultat sous forme de deux nombres arrondis à deux chiffres après la virgule et\n",
    "   séparés par `|`, par exemple `5.32|8.27`\n",
    "\n"
   ]
  },
  {
   "cell_type": "markdown",
   "id": "fff26839",
   "metadata": {},
   "source": [
    "## Imports"
   ]
  },
  {
   "cell_type": "code",
   "execution_count": null,
   "id": "bf91419c",
   "metadata": {},
   "outputs": [],
   "source": [
    "from itertools import combinations\n",
    "from statistics import mean\n",
    "from typing import Dict, List, Tuple"
   ]
  },
  {
   "cell_type": "markdown",
   "id": "40617f9c",
   "metadata": {},
   "source": [
    "## Charger un corpus arboré"
   ]
  },
  {
   "cell_type": "code",
   "execution_count": null,
   "id": "94eff980",
   "metadata": {},
   "outputs": [],
   "source": [
    "import conllu"
   ]
  },
  {
   "cell_type": "markdown",
   "id": "cbc10786",
   "metadata": {},
   "source": [
    "### Version UD"
   ]
  },
  {
   "cell_type": "code",
   "execution_count": null,
   "id": "059784d9",
   "metadata": {},
   "outputs": [],
   "source": [
    "with open(\"fr_sequoia-ud-train.conllu\") as in_stream:\n",
    "    ud_sentences = list(conllu.parse_incr(in_stream))"
   ]
  },
  {
   "cell_type": "code",
   "execution_count": null,
   "id": "e616411f",
   "metadata": {},
   "outputs": [],
   "source": [
    "print(len(ud_sentences))"
   ]
  },
  {
   "cell_type": "markdown",
   "id": "ecfafcf5",
   "metadata": {},
   "source": [
    "### Version SUD"
   ]
  },
  {
   "cell_type": "code",
   "execution_count": null,
   "id": "5e1ace31",
   "metadata": {},
   "outputs": [],
   "source": [
    "with open(\"fr_sequoia-sud-train.conllu\") as in_stream:\n",
    "    sud_sentences = list(conllu.parse_incr(in_stream))"
   ]
  },
  {
   "cell_type": "code",
   "execution_count": null,
   "id": "4cc77a6c",
   "metadata": {},
   "outputs": [],
   "source": [
    "longest_sent_len = max(\n",
    "    sum(1 for t in s if t[\"head\"] is not None)\n",
    "    for s in sud_sentences\n",
    ")"
   ]
  },
  {
   "cell_type": "code",
   "execution_count": null,
   "id": "0cda4d5a",
   "metadata": {},
   "outputs": [],
   "source": [
    "print(len(sud_sentences), longest_sent_len, sep=\"|\")"
   ]
  },
  {
   "cell_type": "markdown",
   "id": "374c3ed4",
   "metadata": {},
   "source": [
    "## Interlude : un dict pour se rendre la vie facile"
   ]
  },
  {
   "cell_type": "code",
   "execution_count": null,
   "id": "c29d061d",
   "metadata": {},
   "outputs": [],
   "source": [
    "ud_dict = {s.metadata[\"sent_id\"]: s for s in ud_sentences}"
   ]
  },
  {
   "cell_type": "code",
   "execution_count": null,
   "id": "bfae3ca1",
   "metadata": {},
   "outputs": [],
   "source": [
    "sud_dict = {s.metadata[\"sent_id\"]: s for s in sud_sentences}"
   ]
  },
  {
   "cell_type": "code",
   "execution_count": null,
   "id": "cdfd704a",
   "metadata": {},
   "outputs": [],
   "source": [
    "ud_dict"
   ]
  },
  {
   "cell_type": "code",
   "execution_count": null,
   "id": "d39a3f2b",
   "metadata": {},
   "outputs": [],
   "source": [
    "list(ud_sentences[6])"
   ]
  },
  {
   "cell_type": "markdown",
   "id": "9c48393c",
   "metadata": {},
   "source": [
    "## Représentations d'arbres"
   ]
  },
  {
   "cell_type": "markdown",
   "id": "fd33400d",
   "metadata": {},
   "source": [
    "### Trouver la racine"
   ]
  },
  {
   "cell_type": "code",
   "execution_count": null,
   "id": "5e662738",
   "metadata": {},
   "outputs": [],
   "source": [
    "def root_id(sentence: conllu.models.TokenList) -> int:\n",
    "    return next(t for t in sentence if t[\"head\"] == 0)[\"id\"]"
   ]
  },
  {
   "cell_type": "markdown",
   "id": "d106a48b",
   "metadata": {},
   "source": [
    "### Nœud → tête"
   ]
  },
  {
   "cell_type": "code",
   "execution_count": null,
   "id": "095a02e6",
   "metadata": {},
   "outputs": [],
   "source": [
    "def head_dict(sentence: conllu.models.TokenList) -> Dict[int, int]:\n",
    "    return {int(t[\"id\"]): int(t[\"head\"]) for t in sentence if t[\"head\"] is not None}"
   ]
  },
  {
   "cell_type": "markdown",
   "id": "37afa92f",
   "metadata": {},
   "source": [
    "Les `int` ne sont pas nécessaire, mais nous assurent qu'une exception est levée\n",
    "`id` ou `head` n'est pas un entier. Ça ne devrait jamais arriver puisqu'on\n",
    "enlève les tokens multimots avec la condition `head is not None`, donc si ça\n",
    "arrive, c'est qu'il y a un problème quelque part et il vaut mieux qu'on soit\n",
    "au courant.\n",
    "\n",
    "Note : c'est plutôt sale comme façon de faire. Je le fais là pour avoir une réponse rapide à coder,\n",
    "mais ce n'est pas à faire pour un projet que vous envisagez de maintenir."
   ]
  },
  {
   "cell_type": "code",
   "execution_count": null,
   "id": "c6760777",
   "metadata": {},
   "outputs": [],
   "source": [
    "print(head_dict(ud_sentences[6]))"
   ]
  },
  {
   "cell_type": "markdown",
   "id": "bc49c425",
   "metadata": {},
   "source": [
    "### Nœud → enfants"
   ]
  },
  {
   "cell_type": "code",
   "execution_count": null,
   "id": "842bf85a",
   "metadata": {},
   "outputs": [],
   "source": [
    "def children_dict(sentence: conllu.models.TokenList) -> Dict[int, List[int]]:\n",
    "    res = {t[\"id\"]: [] for t in sentence if t[\"head\"] is not None}\n",
    "    for t in sentence:\n",
    "        # On pourrait aussi tester `if t` mais explicite est mieux qu'implicite\n",
    "        if t[\"head\"] is None or t[\"head\"] == 0:\n",
    "            continue\n",
    "        res[int(t[\"head\"])].append(t[\"id\"])\n",
    "    return res"
   ]
  },
  {
   "cell_type": "code",
   "execution_count": null,
   "id": "1bee8fa4",
   "metadata": {},
   "outputs": [],
   "source": [
    "print(children_dict(ud_sentences[6]))"
   ]
  },
  {
   "cell_type": "markdown",
   "id": "d8e1a973",
   "metadata": {},
   "source": [
    "### Nœuds → descendants"
   ]
  },
  {
   "cell_type": "code",
   "execution_count": null,
   "id": "9179a454",
   "metadata": {},
   "outputs": [],
   "source": [
    "def descendant_dict(sentence: conllu.models.TokenList) -> Dict[int, List[int]]:\n",
    "    children = children_dict(sentence)\n",
    "    \n",
    "    def aux(node_id: int) -> Dict[int, List[int]]:\n",
    "        # **LA COPIE AVEC `list` EST TRÈS IMPORTANTE ICI**\n",
    "        # On va faire muter cette liste, si on ne la copie\n",
    "        # pas, les modifications vont se répercuter sur `children`\n",
    "        node_children = list(children[node_id])\n",
    "        res = {node_id: node_children}\n",
    "        for c in node_children:\n",
    "            res.update(aux(c))\n",
    "            res[node_id].extend(res[c])\n",
    "        res[node_id].sort()\n",
    "        return res\n",
    "    \n",
    "    root = root_id(sentence)\n",
    "    return aux(root)"
   ]
  },
  {
   "cell_type": "code",
   "execution_count": null,
   "id": "d9ac63a1",
   "metadata": {},
   "outputs": [],
   "source": [
    "print(descendant_dict(ud_sentences[5]))"
   ]
  },
  {
   "cell_type": "markdown",
   "id": "f017f853",
   "metadata": {},
   "source": [
    "## Statistiques"
   ]
  },
  {
   "cell_type": "markdown",
   "id": "7e3e813c",
   "metadata": {},
   "source": [
    "### Profondeur"
   ]
  },
  {
   "cell_type": "code",
   "execution_count": null,
   "id": "029cb7ed",
   "metadata": {},
   "outputs": [],
   "source": [
    "def depth(sentence: conllu.models.TokenList) -> int:\n",
    "    children = children_dict(sentence)\n",
    "    def aux(node_id: int) -> int:\n",
    "        # On peut faire plus court, mais ça devient peu lisible\n",
    "        children_depth = [aux(c) for c in children[node_id]]\n",
    "        return 1 + max(children_depth, default=0)\n",
    "    return aux(root_id(sentence))"
   ]
  },
  {
   "cell_type": "code",
   "execution_count": null,
   "id": "bd64cc19",
   "metadata": {},
   "outputs": [],
   "source": [
    "depth(ud_sentences[5])"
   ]
  },
  {
   "cell_type": "code",
   "execution_count": null,
   "id": "043bb4fb",
   "metadata": {},
   "outputs": [],
   "source": [
    "mean((depth(s) for s in ud_sentences))"
   ]
  },
  {
   "cell_type": "code",
   "execution_count": null,
   "id": "66658798",
   "metadata": {},
   "outputs": [],
   "source": [
    "mean((depth(s) for s in sud_sentences))"
   ]
  },
  {
   "cell_type": "code",
   "execution_count": null,
   "id": "d9703943",
   "metadata": {},
   "outputs": [],
   "source": [
    "print(\n",
    "  round(mean((depth(s) for s in ud_sentences)), 2),\n",
    "  round(mean((depth(s) for s in sud_sentences)), 2),\n",
    "  sep=\"|\",\n",
    ")"
   ]
  },
  {
   "cell_type": "markdown",
   "id": "a6144898",
   "metadata": {},
   "source": [
    "### Projectivité"
   ]
  },
  {
   "cell_type": "markdown",
   "id": "b3db825a",
   "metadata": {},
   "source": [
    "Astuce pour déterminer si des arcs $a→b$ et $c→d$ se croisent : on se ramène au cas où $a<b$, $c<d$\n",
    "et $a⩽c$, ce qu'on peut faire sans perte de généralité, puisque :\n",
    "\n",
    "- Les rôles du gouverneur et du gouverné sont symétriques.\n",
    "- La relation « se croiser » est symétrique.\n",
    "\n",
    "Or dans ce cas, la seule possibilité pour que les arcs se croisent, c'est si $a<b<c<d$, puisque\n",
    "\n",
    "- Si $a=c$ ou $b=d$, il n'y a pas de croisement.\n",
    "- Idem si $b≥c$."
   ]
  },
  {
   "cell_type": "code",
   "execution_count": null,
   "id": "0f1adbaf",
   "metadata": {},
   "outputs": [],
   "source": [
    "def crossing(arc_1: Tuple[int, int], arc_2: Tuple[int, int]) -> bool:\n",
    "    (a, b), (c, d) = sorted([sorted(arc_1), sorted(arc_2)])\n",
    "    return a < c < b < d"
   ]
  },
  {
   "cell_type": "code",
   "execution_count": null,
   "id": "39c53544",
   "metadata": {},
   "outputs": [],
   "source": [
    "def projective(sentence: conllu.models.TokenList) -> bool:\n",
    "    arc_pairs = combinations(head_dict(sentence).items(), 2)\n",
    "    return not any(crossing(arc_1, arc_2) for arc_1, arc_2 in arc_pairs)"
   ]
  },
  {
   "cell_type": "code",
   "execution_count": null,
   "id": "4ea18f2e",
   "metadata": {},
   "outputs": [],
   "source": [
    "s = next(s for s in ud_sentences if not projective(s))\n",
    "s"
   ]
  },
  {
   "cell_type": "code",
   "execution_count": null,
   "id": "80d8577f",
   "metadata": {},
   "outputs": [],
   "source": [
    "proj_ratio_ud = sum(1 for s in ud_sentences if projective(s))/len(ud_sentences)\n",
    "proj_ratio_ud"
   ]
  },
  {
   "cell_type": "code",
   "execution_count": null,
   "id": "da260eac",
   "metadata": {},
   "outputs": [],
   "source": [
    "proj_ratio_sud = sum(1 for s in sud_sentences if projective(s))/len(sud_sentences)\n",
    "proj_ratio_sud"
   ]
  },
  {
   "cell_type": "markdown",
   "id": "529c824b",
   "metadata": {},
   "source": [
    "(On aurait aussi pu faire ça avec `mean`, mais c'est crade)"
   ]
  },
  {
   "cell_type": "code",
   "execution_count": null,
   "id": "e92b71aa",
   "metadata": {},
   "outputs": [],
   "source": [
    "print(f\"{proj_ratio_ud:.02%}|{proj_ratio_sud:.02%}\")"
   ]
  },
  {
   "cell_type": "markdown",
   "id": "2ec773f2",
   "metadata": {},
   "source": [
    "### Flux de dépendances"
   ]
  },
  {
   "cell_type": "code",
   "execution_count": null,
   "id": "d4211b32",
   "metadata": {},
   "outputs": [],
   "source": [
    "def flux(sentence: conllu.models.TokenList, position: int) -> int:\n",
    "    \"\"\"Renvoie le flux de dépendances **after** the node `position`\"\"\"\n",
    "    max_id = sentence[-1][\"id\"]\n",
    "    if not 1 <= position < max_id:\n",
    "        raise ValueError(f\"{position} is not a valid interstice for a sentence of {max_id} words\")\n",
    "    res = []\n",
    "    # On pourrait utiliser une compréhension et  mais c'est moins lisible\n",
    "    for d, h in head_dict(sentence).items():\n",
    "        # On ne compte pas la racine\n",
    "        if h == 0:\n",
    "            continue\n",
    "        # Sympa du point de vue typage. On crée une liste inutile mais\n",
    "        # c'est négligeable en termes de perfs\n",
    "        a, b = sorted([d, h])\n",
    "        if a <= position < b:\n",
    "            res.append((d, h))\n",
    "    return res"
   ]
  },
  {
   "cell_type": "code",
   "execution_count": null,
   "id": "27b10326",
   "metadata": {},
   "outputs": [],
   "source": [
    "def max_flux_size(sentence: conllu.models.TokenList) -> int:\n",
    "    return max(len(flux(sentence, i)) for i in range(1,  sentence[-1][\"id\"]))"
   ]
  },
  {
   "cell_type": "code",
   "execution_count": null,
   "id": "9e0a8c90",
   "metadata": {},
   "outputs": [],
   "source": [
    "ud_sentences[4]"
   ]
  },
  {
   "cell_type": "code",
   "execution_count": null,
   "id": "bb130bd5",
   "metadata": {},
   "outputs": [],
   "source": [
    "max_flux_size(ud_sentences[4])"
   ]
  },
  {
   "cell_type": "code",
   "execution_count": null,
   "id": "2a4c8d9d",
   "metadata": {},
   "outputs": [],
   "source": [
    "print(\n",
    "    round(mean((max_flux_size(s) for s in ud_sentences if len(s) > 1)), 2),\n",
    "    round(mean((max_flux_size(s) for s in sud_sentences if len(s) > 1)), 2),\n",
    "    sep=\"|\",\n",
    ")"
   ]
  }
 ],
 "metadata": {
  "jupytext": {
   "formats": "ipynb,md",
   "split_at_heading": true
  },
  "kernelspec": {
   "display_name": "Python 3 (ipykernel)",
   "language": "python",
   "name": "python3"
  }
 },
 "nbformat": 4,
 "nbformat_minor": 5
}
