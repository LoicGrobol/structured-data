{
 "cells": [
  {
   "cell_type": "markdown",
   "id": "6f6daa7e",
   "metadata": {},
   "source": [
    "<!-- LTeX: language=fr -->\n",
    "Examen Données structurées 2022\n",
    "==============================="
   ]
  },
  {
   "cell_type": "markdown",
   "id": "4de8955a",
   "metadata": {},
   "source": [
    "## ATTENTION\n",
    "\n",
    "<small>Quelques rappels bien voyants, pour ne pas que vous les manquiez</small>\n",
    "\n",
    "- **PENSEZ À TESTER VOTRE NOTEBOOK/SCRIPT EN L'EXÉCUTANT AVANT DE LE RENDRE**\n",
    "  - Dans le cas d'un notebook, vérifiez que ça marche aussi si vous faites « restart kernel and run\n",
    "    all »\n",
    "- **SAUVEGARDEZ RÉGULIÈREMENT VOTRE TRAVAIL**\n",
    "- **LISEZ LES CONSIGNES CI-DESSOUS ET VÉRIFIEZ QUE VOUS LES RESPECTEZ**"
   ]
  },
  {
   "cell_type": "markdown",
   "id": "f43d5452",
   "metadata": {},
   "source": [
    "## Consignes\n",
    "\n",
    "Vous travaillerez avec le fichier\n",
    "\n",
    "Vous produirez un **script** ou un **notebook** Python compatible avec Python 3.9\n",
    "\n",
    "Votre script ou notebook devra :\n",
    "\n",
    "- Ouvrir les fichiers\n",
    "  [`fr_sequoia-ud-train.conllu`](https://raw.githubusercontent.com/UniversalDependencies/UD_French-Sequoia/r2.9/fr_sequoia-ud-train.conllu)\n",
    "  et\n",
    "  [`fr_sequoia-sud-train.conllu`](https://sharedocs.huma-num.fr/wl/?id=lpoZ2kAIwONHyAD3tyS9pfE3Jl464Zlp&download=1),\n",
    "  supposés se trouver dans le même dossier que lui et représentant le sous-ensemble d'entraînement\n",
    "  du corpus Sequoia, respectivement dans sa version [Universal Dependencies\n",
    "  2.9](https://github.com/UniversalDependencies/UD_French-Sequoia/tree/r2.9) et [SUD\n",
    "  2.9](https://grew.fr/download/sud-treebanks-v2.9.tgz).\n",
    "  - Voir ci-dessous pour des commandes permettant de les télécharger sur vos machines.\n",
    "  - En cas de problème de téléchargement, appelez-moi tout de suite : je les ai aussi sur clé USB.\n",
    "- Afficher sur la sortie standard (par exemple avec `print`) une ligne et une seule par question.\n",
    "  - **N'afficher que la réponse et pas d'autre texte**\n",
    "  - Par exemple pour la question « Combien y a-t-il de jours dans une semaine ? » et que la variable\n",
    "  `days` contient `7`, répondez avec `print(days)`.\n",
    "  - Si vous n'avez pas réussi à répondre, affichez une ligne vide).\n",
    "- Ne produire aucune autre sortie\n",
    "- Autrement dit : un `print` et un seul par question, que vous rendiez un script ou un notebook.\n",
    "  - Astuce : si vous travaillez avec un notebook, vous pouvez le télécharger comme script et ainsi\n",
    "    tester plus facilement s'il affiche bien une ligne et une seule par question.\n",
    "- Termine en un temps raisonnable (disons moins de deux minutes sur votre machine).\n",
    "- Les réponses doivent bien évidemment être déduites du fichier par votre script et non pas codées\n",
    "  en dur.\n",
    "\n",
    "Votre rendu ne doit comporter qu'un seul fichier, nommé `{prénom}_{nom}.py` ou\n",
    "`{prénom}_{nom}.ipynb`, le prénom et le nom étant ceux sous lesquels vous êtes inscrit⋅e, en\n",
    "minuscules, sans diacritiques et le cas échéant transcrit en alphabet latin. Par exemple, en ce qui\n",
    "me concerne, ce serait `loic_grobol.py`.\n",
    "\n",
    "Vous pouvez utiliser tous les modules de la bibliothèque standard, tous les modules listés dans\n",
    "[`requirements.txt`](../../requirements.txt). Vous pouvez aussi utiliser n'importe quel autre module\n",
    "disponible sur [PyPI](https://pypi.org) (ce n'est pas nécessaire, ni utile à mon avis, mais si vous\n",
    "le faites, pensez à l'indiquer dans un commentaire ou une cellule markdown).\n",
    "\n",
    "Une fois terminé, envoyez ce script à <lgrobol@parisnanterre.fr> avec en objet `Examen données\n",
    "structurées` ou appelez-moi pour que je le récupère directement sur clé USB.\n",
    "\n",
    "Pour les questions auxquelles vous n'aurez pas fourni de réponse (et donc affiché une ligne vide),\n",
    "vous pouvez indiquer dans votre script des éléments de réponse partiels par des fragments de code ou\n",
    "des commentaires. Dans ce cas, assurez-vous que vous n'affichez bien qu'une ligne vide en réponse à\n",
    "cette question."
   ]
  },
  {
   "cell_type": "markdown",
   "id": "eeb5e7c0",
   "metadata": {},
   "source": [
    "Commandes pour télécharger les treebanks :"
   ]
  },
  {
   "cell_type": "code",
   "execution_count": null,
   "id": "513a38fb",
   "metadata": {},
   "outputs": [],
   "source": [
    "# !wget -nc \"https://raw.githubusercontent.com/UniversalDependencies/UD_French-Sequoia/r2.9/fr_sequoia-ud-train.conllu\" -O \"fr_sequoia-ud-train.conllu\""
   ]
  },
  {
   "cell_type": "code",
   "execution_count": null,
   "id": "814d3abc",
   "metadata": {},
   "outputs": [],
   "source": [
    "# !wget -nc \"https://sharedocs.huma-num.fr/wl/?id=lpoZ2kAIwONHyAD3tyS9pfE3Jl464Zlp&download=1\" -O \"fr_sequoia-sud-train.conllu\""
   ]
  },
  {
   "cell_type": "markdown",
   "id": "2dd42f33",
   "metadata": {},
   "source": [
    "## Questions\n",
    "\n",
    "- *Écrire des fonctions pour les opérations qui reviennent souvent est très fortement recommandé.*\n",
    "- *Dans tout ce qui suit, on parle de **mots** au sens de UD : les signes de ponctuation en font\n",
    "  partie et certains tokens peuvent correspondre à plusieurs mots — comme « du » en français qui\n",
    "  correspond aux mots « de » et « le ».*\n",
    "\n",
    "1. Quels sont vos noms et prénoms ?\n",
    "   - Répondre sous la forme d'une chaîne de caractères, comme `Loïc Grobol`.\n",
    "2. Combien d'arbres y a-t-il dans `fr_sequoia-ud-train.conllu` ?\n",
    "   - Répondre par un entier, par exemple `76`.\n",
    "3. Combien d'arbres y a-t-il dans `fr_sequoia-sud-train.conllu` et quelle est la longueur (en nombre\n",
    "   de mots, pas de tokens) du plus long ?\n",
    "   - Répondre par deux entiers séparés par un `|`, par exemple `1024|31`.\n",
    "4. Lister les arcs de l'arbre `annodis.er_00008` dans `fr_sequoia-ud-train.conllu` sous la forme\n",
    "   d'un dictionnaire dont les clés sont les dépendants et les valeurs sont les gouverneurs.\n",
    "   - Par exemple pour un arbre dont `1` est la racine et dont les arcs sont `1→4`, `4→2`et `4→3`,\n",
    "   afficher `{1: 0, 2: 4, 3: 4, 4: 1}`.\n",
    "5. Lister les arcs de l'arbre `annodis.er_00008` dans `fr_sequoia-ud-train.conllu` sous la forme\n",
    "   d'un dictionnaire dont les clés sont les gouverneurs et les valeurs sont les listes des\n",
    "   dépendants.\n",
    "   - Par exemple pour un arbre dont `1` est la racine et dont les arcs sont `1→4`, `4→2`et `4→3`\n",
    "   `{1: [4], 2: [], 3: [], 4: [2, 3]}`.\n",
    "6. Lister les sous-arbres de l'arbre `annodis.er_00008` dans `fr_sequoia-ud-train.conllu` sous la\n",
    "   forme d'un dictionnaire dont les clés sont les gouverneurs et les valeurs sont les listes des\n",
    "   descendants.\n",
    "   - Par exemple pour un arbre dont `1` est la racine et dont les arcs sont `1→4`, `4→2`et `4→3`,\n",
    "   afficher `{1: [2, 3, 4], 2: [], 3: [], 4: [2, 3]}`.\n",
    "7. On appelle **profondeur** d'un arbre, la longueur du plus long chemin allant de la racine de\n",
    "   l'arbre à un autre nœud. Afficher la profondeur moyenne des arbres des corpus\n",
    "   `fr_sequoia-ud-train.conllu` et `fr_sequoia-sud-train.conllu`.\n",
    "   - Afficher la réponse sous forme de deux nombres arrondis à deux chiffres après la virgule et\n",
    "     séparés par `|`, par exemple `10.05|11.22`.\n",
    "8. On dit qu'un arbre syntaxique en dépendances est **projectif** s'il n'a pas d'arcs qui se\n",
    "   croisent quand les mots sont alignés dans leur ordre d'apparition dans la phrase. Afficher la\n",
    "   proportion d'arbres projectifs dans les corpus `fr_sequoia-ud-train.conllu` et\n",
    "   `fr_sequoia-sud-train.conllu`.\n",
    "   - Afficher la réponse sous forme de deux pourcentages arrondis à deux chiffres après la virgule\n",
    "     et séparés par `|`, par exemple `98.05%|90.22%`.\n",
    "\n",
    "9. Pour les cracks :\n",
    "\n",
    "   Étant donné un arbre syntaxique en dépendances $A$ de $n$ mots et un entier $i$ tel que $1⩽i<n$,\n",
    "   on appelle **taille du flux de dépendances à la position $i$** le nombre $f_i(A)$ d'arcs $a⟷b$\n",
    "   (peu importe la direction) de cet arbre tel que $a⩽i<b$, et on note $f(A)=\\max_i f_i(A)$ la\n",
    "   valeur maximale de cette taille. Calculer les valeurs moyennes de $f$ pour les arbres du corpus\n",
    "   `fr_sequoia-ud-train.conllu` et du corpus `fr_sequoia-sud-train.conllu`.\n",
    "\n",
    "   Afficher le résultat sous forme de deux nombres arrondis à deux chiffres après la virgule et\n",
    "   séparés par `|`, par exemple `5.32|8.27`"
   ]
  }
 ],
 "metadata": {
  "jupytext": {
   "formats": "ipynb,md",
   "split_at_heading": true
  },
  "kernelspec": {
   "display_name": "Python 3 (ipykernel)",
   "language": "python",
   "name": "python3"
  }
 },
 "nbformat": 4,
 "nbformat_minor": 5
}
