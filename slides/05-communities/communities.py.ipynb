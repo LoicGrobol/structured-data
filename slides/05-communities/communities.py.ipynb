{
 "cells": [
  {
   "cell_type": "markdown",
   "id": "98741ad4",
   "metadata": {},
   "source": [
    "<!-- LTeX: language=fr -->"
   ]
  },
  {
   "cell_type": "markdown",
   "id": "4e6edc29",
   "metadata": {
    "slideshow": {
     "slide_type": "slide"
    }
   },
   "source": [
    "\n",
    "# Cours 5 : clusters et communautés\n",
    "\n",
    "**Loïc Grobol** [&lt;lgrobol@parisnanterre.fr>](mailto:lgrobol@parisnanterre.fr)\n",
    "\n",
    "2022-01-03\n"
   ]
  },
  {
   "cell_type": "markdown",
   "id": "d077f734",
   "metadata": {},
   "source": [
    "## Clustering\n",
    "\n",
    "Objectif : on a des données sous formes d'un ensemble d'éléments liés par des relations et on\n",
    "cherche à y repérer des structures latentes sous la forme d'une partition en sous-ensembles — les\n",
    "fameux *clusters*.\n",
    "\n",
    "Les relations peuvent être explicites (relations sémantiques, voisinage dans un graphe…) ou induites\n",
    "par le type des éléments (par exemple la distance entre les points dans un espace métrique).\n",
    "\n",
    "On va voir quelques exemples intéressants, mais il y en a **plein**, vraiment *plein* d'autres."
   ]
  },
  {
   "cell_type": "markdown",
   "id": "3722c799",
   "metadata": {},
   "source": [
    "## $K$-moyennes\n",
    "\n",
    "Ou *$K$-means*. Il s'agit d'un problème de clustering très courant, essentiellement parce que :\n",
    "\n",
    "- Les hypothèses à faire sur les données sont très légères : on a juste besoin d'une représentation\n",
    "  vectorielle des données.\n",
    "- Il y a un algorithme facile à comprendre et implémenter (pas forcément exact ni optimal, mais peu importe),\n",
    "  avec une représentation visuelle agréable.\n",
    "- Ça donne des résultats immédiatement, pas toujours top, mais lisibles.\n",
    "\n",
    "Le revers de la médaille, comme on ne fait pas beaucoup d'hypothèses, c'est que ça n'a que la\n",
    "qualité des représentations vectorielles : *garbage in, garbage out*. Mais de fait, ce n'est pas un\n",
    "mauvais test de la qualité de ces représentations.\n",
    "\n",
    "- **Hypothèse** On a un ensemble de données $E=\\{x₁, …, x_n\\}$ sous forme de vecteurs de dimension $d$ et un entier strictement positif $k$.\n",
    "- **Objectif** Trouver une $K$-partition $\\{S₁, …, S_k\\}$ de $E$ (i.e. $⋃_i Sᵢ=E$ et $S_i∩S_j=∅$ si $i≠j$) telle que la somme des carrés des écarts inter-clusters à la moyenne $s$ soit minimale, avec\n",
    "  \n",
    "  $$\\begin{equation}\n",
    "    s = \\sum_i\\sum_{x∈S_i}\\lVert x-μ_i \\rVert² = \\sum_i\\sum_{x∈S_i}\\mathop{d}(x, μᵢ)²\n",
    "  \\end{equation}$$\n",
    "\n",
    "  et\n",
    "  $$\\begin{equation}\n",
    "    μ_i = \\frac{1}{\\lvert S_i\\rvert}\\sum_{x∈S_i}x_i\n",
    "  \\end{equation}$$\n",
    "  \n",
    "On appelle les $μᵢ$ les *centroïdes* des clusters $Sᵢ$, et l'algorithme classique pour construire les $Sᵢ$ (l'algorithme de Lloyd-Max) repose dessus."
   ]
  },
  {
   "cell_type": "markdown",
   "id": "d68f31d9",
   "metadata": {},
   "source": [
    "### Algorithme de Lloyd-Max"
   ]
  },
  {
   "cell_type": "markdown",
   "id": "13f8b1ed",
   "metadata": {},
   "source": [
    "1. Choisir (en général aléatoirement) $k$ centroides $μ_1, …, μ_k$\n",
    "2. Construire les $S₁, …, S_k$ tels que pour tout $i$, $S_i=\\{x_j∈E \\text{ tels que} \\mathop{d}(x,μ_i) < \\mathop{d}(x,μ_j) \\text{ pour tout $j≠i$}\\}$. Autrement dit, on affectecte chaque point de $E$ au centroïde le plus proche, ce qu'on appelle aussi la partition de Voronoï (Георгій Феодосійович Вороний) de $E$ suivant $μ_1, …, μ_k$.\n",
    "3. Mettre à jour les centroides : $μᵢ := \\frac{1}{\\lvert Sᵢ\\rvert}\\sum_{x\\in S_i}x_i$\n",
    "4. Retour à 2"
   ]
  },
  {
   "cell_type": "markdown",
   "id": "5d925039",
   "metadata": {},
   "source": [
    "## Clustering hiérarchique\n",
    "\n",
    "Idée : construire non pas directement une partition en cluster mais une série de partitions allant du plus grossier au plus fin.\n",
    "\n",
    "- Au plus fin, les clusters sont les singletons\n",
    "- Au plus grossier, il n'y a qu'un seul cluster qui contient tous les points de données\n",
    "\n",
    "On coupe ensuite la hiérarchie pour obtenir des compromis.\n",
    "\n",
    "Deux techniques : agglomération et division."
   ]
  },
  {
   "cell_type": "markdown",
   "id": "5041f59f",
   "metadata": {},
   "source": [
    "## Clustering dans un graphe\n",
    "\n",
    "### Clustering par propagation d'étiquettes\n",
    "\n",
    "Raghavan et al. ([2007](https://link.aps.org/doi/10.1103/PhysRevE.76.036106)).\n",
    "\n",
    "On dispose d'un graphe $Γ$ dont l'ensemble des sommets est $S=\\{s₁, …, s_n\\}$. Notre objectif va être de construire des clusters en affectant une étiquette $l(s)$ à chaque sommet $s∈S$ et prenant ensuite comme clusters les ensembles de sommets ayant la même étiquette.\n",
    "\n",
    "On dit qu'un nœud $s$ *suit le consensus local* si $l(s)$ est majoritaire au sein des voisins de $s$. L'algorithme consiste à faire en sorte que chacun des nœuds de $Γ$ suive le consensus local.\n",
    "\n",
    "- Pour tout $sᵢ∈S$, on choisit $l(sᵢ):=i$\n",
    "- Tant qu'il existe des nœuds qui ne suivent pas le consensus local\n",
    "  - Pour chaque $s∈S$\n",
    "    - On détermine $k$, l'étiquette majoritaire au sein des voisins de $s$\n",
    "    - $l(s) := k$\n"
   ]
  },
  {
   "cell_type": "markdown",
   "id": "5ac83003",
   "metadata": {},
   "source": [
    "## Appplication à la représentation vectorielles de mots"
   ]
  },
  {
   "cell_type": "markdown",
   "id": "b4edd81d",
   "metadata": {},
   "source": [
    "Connes et Dugué ([2019](https://hal.archives-ouvertes.fr/hal-02408156))\n",
    "\n",
    "- Lire\n",
    "- Résumer\n",
    "  - Principe général en quelques phrases\n",
    "  - Choix techniques avec leurs justifications et leurs conséquences\n",
    "- Reproduire sur [CIDRE](https://www.ortolang.fr/market/corpora/cidre)"
   ]
  }
 ],
 "metadata": {
  "jupytext": {
   "formats": "ipynb,md",
   "split_at_heading": true
  },
  "kernelspec": {
   "display_name": "Python 3 (ipykernel)",
   "language": "python",
   "name": "python3"
  }
 },
 "nbformat": 4,
 "nbformat_minor": 5
}
