{
 "cells": [
  {
   "cell_type": "markdown",
   "id": "d4602727",
   "metadata": {},
   "source": [
    "<!-- LTeX: language=fr -->"
   ]
  },
  {
   "cell_type": "markdown",
   "id": "9334480c",
   "metadata": {
    "slideshow": {
     "slide_type": "slide"
    }
   },
   "source": [
    "\n",
    "# Cours 7 : Coréférence\n",
    "\n",
    "**Loïc Grobol** [&lt;lgrobol@parisnanterre.fr>](mailto:lgrobol@parisnanterre.fr)\n",
    "\n",
    "2022-01-26\n"
   ]
  },
  {
   "cell_type": "markdown",
   "id": "eecbbfdc",
   "metadata": {},
   "source": [
    "## Définitions générales\n",
    "\n",
    "> **Sam Vimaire** soupira quand **il** entendit le cri.\n",
    "\n",
    "---\n",
    "\n",
    "<!-- LTeX: language=en -->\n",
    "\n",
    "> **The Eyjafjallajökull volcano**, one of Iceland’s largest had been dormant\n",
    "> for nearly two centuries before returning gently to life in the late evening\n",
    "> of March 20, 2010, noticeable at first by the emergence of a red cloud\n",
    "> glowing above the vast glacier that covers it. In the following days, fire\n",
    "> fountains jetted from a dozen vents on the volcano, reaching as high as\n",
    "> 100 meters.\n",
    "\n",
    "<!-- LTeX: language=fr -->\n",
    "\n",
    "---\n",
    "\n",
    "La communication en langage naturel inclut des références à des **entités**, qui existent dans un\n",
    "espace discursif.\n",
    "\n",
    "- Objets, concepts, faits, évènements…\n",
    "  - > **La pomme** est un fruit et **c'**est délicieux.\n",
    "  - > « […] faut que je le note, d’ailleurs vous me **le** faites rappeler »\n",
    "- Pas forcément du monde réel :\n",
    "  - > Morgan a vu **une licorne**. **Elle** avait une crinière dorée\n",
    "  - > Si j'avais **une voiture**, **elle** serait indigo.\n",
    "- Même pas forcément possibles :\n",
    "  - > **Un triangle à quatre côtés**, c'est quelque chose d'incroyable\n",
    "\n",
    "Ces entités ne sont d'ailleurs pas fixes et peuvent évoluer au fil du discours :\n",
    "\n",
    "> Prenez **une belle courgette bien mûre**. Préparez-**la** à passer au four, coupez-**la** en\n",
    "> quatre morceaux et faites-**la** rôtir avec du thym et du paprika fumé pendant une heure.\n",
    "> Servez-**la** avec du riz et savourez **son** parfum doux et délicatement épicé.\n",
    "\n",
    "---\n",
    "\n",
    "- En général, les éléments linguistiques qui désignent ces entités sont des constituants (ou des\n",
    "  *catena*).\n",
    "- Le cas typique : pronoms et syntagme nominaux (mais pas tous !)\n",
    "\n",
    "On dit que ces éléments sont des **mentions** qui **réfèrent** à des entités et que des mentions qui\n",
    "font référence à une même entité sont **coréférentes**.\n",
    "\n",
    "- L'ensemble des mentions qui réfèrent à une entité est une **chaîne de coréférence(s)**.\n",
    "- Une chaîne qui n'a qu'une seule mention (et par extension la mention en question) est un\n",
    "  **singleton**.\n",
    "- Si on considère une mention $m$, les mentions qui la précèdent dans la chaîne de coréférence où\n",
    "  elle se trouve sont ses **antécédents**."
   ]
  },
  {
   "cell_type": "markdown",
   "id": "7a782deb",
   "metadata": {},
   "source": [
    "## En TAL\n",
    "\n",
    "La tâche de « détection des chaînes de coréférences » (*coreference resolution*) est en général :\n",
    "\n",
    "- Limitée aux seules mentions nominales et pronominales (ou des seuls évènements).\n",
    "- Ne suppose pas de modélisation explicite des entités.\n",
    "\n",
    "Autrement dit, elle peut être décomposée en deux sous-tâches\n",
    "\n",
    "- Détection des mentions.\n",
    "- Reconstruction des chaînes de coréférences.\n",
    "\n",
    "Tâches connexes :\n",
    "\n",
    "- NER / Entity linkink\n",
    "- Résolution des anaphores pronominales\n",
    "- Schémas de Winograd"
   ]
  },
  {
   "cell_type": "markdown",
   "id": "d3733b51",
   "metadata": {},
   "source": [
    "## Données\n",
    "\n",
    "Corpus principaux :\n",
    "\n",
    "En anglais :\n",
    "\n",
    "- MUC\n",
    "- ACE\n",
    "- OntoNotes/SemEval/CoNLL-201{1,2} (techniquement multilingue)\n",
    "\n",
    "En français\n",
    "\n",
    "- ANCOR\n",
    "- DEMOCRAT\n",
    "\n",
    "Multilingues : Universal Anaphora / [CorefUD](https://ufal.mff.cuni.cz/corefud)"
   ]
  },
  {
   "cell_type": "markdown",
   "id": "f42efce7",
   "metadata": {},
   "source": [
    "## Techniques de traitement"
   ]
  },
  {
   "cell_type": "markdown",
   "id": "f01cd0fe",
   "metadata": {},
   "source": [
    "### Représentations\n",
    "\n",
    "- Mentions\n",
    "- Paires de mentions\n",
    "- Ensembles de mentions"
   ]
  },
  {
   "cell_type": "markdown",
   "id": "a44fcd04",
   "metadata": {},
   "source": [
    "### Détection des mentions\n",
    "\n",
    "- Segmentation\n",
    "- Détection dans une représentation hiérarchique\n",
    "- Classification d'empans"
   ]
  },
  {
   "cell_type": "markdown",
   "id": "d1047eea",
   "metadata": {},
   "source": [
    "### Détection des chaînes\n",
    "\n",
    "Modèles :\n",
    "\n",
    "- Orientée liens (paires de mentions)\n",
    "  - Détection : classification vs. ranking vs. score\n",
    "  - Décodage : glouton ou global\n",
    "- Entité-mention\n",
    "  - Orientée mentions\n",
    "  - Orientée entités/chaînes"
   ]
  },
  {
   "cell_type": "markdown",
   "id": "376aafee",
   "metadata": {},
   "source": [
    "## Implémentations\n",
    "\n",
    "Paradigme dominant : E2EC de Kenton Lee et al."
   ]
  },
  {
   "cell_type": "markdown",
   "id": "ddabd324",
   "metadata": {},
   "source": [
    "### Neuralcoref\n",
    "\n",
    "[🤗 Neuralcoref](https://huggingface.co/coref/?text=The%20kiwi%20was%20on%20the%20table.%20It%20seemed%20ripe%20but%20you%20can%27t%20ever%20be%20sure.)"
   ]
  },
  {
   "cell_type": "markdown",
   "id": "57236ef4",
   "metadata": {},
   "source": [
    "### Stanza/CoreNLP"
   ]
  },
  {
   "cell_type": "code",
   "execution_count": null,
   "id": "0bc397e1",
   "metadata": {},
   "outputs": [],
   "source": [
    "import stanza"
   ]
  },
  {
   "cell_type": "code",
   "execution_count": null,
   "id": "94d8107a",
   "metadata": {},
   "outputs": [],
   "source": [
    "stanza.install_corenlp(dir=\"local/corenlp\")"
   ]
  },
  {
   "cell_type": "code",
   "execution_count": null,
   "id": "bb39421d",
   "metadata": {},
   "outputs": [],
   "source": [
    "import os\n",
    "os.environ[\"CORENLP_HOME\"] = \"local/corenlp\""
   ]
  },
  {
   "cell_type": "code",
   "execution_count": null,
   "id": "545f51b0",
   "metadata": {},
   "outputs": [],
   "source": [
    "from stanza.server import CoreNLPClient"
   ]
  },
  {
   "cell_type": "code",
   "execution_count": null,
   "id": "ffe4d99d",
   "metadata": {},
   "outputs": [],
   "source": [
    "with CoreNLPClient(\n",
    "    annotators=[\"tokenize\",\"ssplit\",\"pos\",\"lemma\",\"ner\", \"parse\", \"depparse\",\"coref\"], \n",
    "    memory=\"4G\",\n",
    "    endpoint=\"http://localhost:9001\",\n",
    "    be_quiet=True,\n",
    ") as client:\n",
    "    text = \"Beethoven’s first music teacher was his father. Although tradition has it that Johann van Beethoven was a harsh instructor, and that the child Beethoven, “made to stand at the keyboard, was often in tears”, the Grove Dictionary of Music and Musicians claimed that no solid documentation supported this.\"\n",
    "    document = client.annotate(text)"
   ]
  },
  {
   "cell_type": "code",
   "execution_count": null,
   "id": "50ce54f2",
   "metadata": {},
   "outputs": [],
   "source": [
    "document.corefChain"
   ]
  },
  {
   "cell_type": "code",
   "execution_count": null,
   "id": "0d3a056f",
   "metadata": {},
   "outputs": [],
   "source": [
    "mentions_dict = dict()\n",
    "for sent in document.sentence:\n",
    "    for m in sent.mentions:\n",
    "        mentions_dict[m.entityMentionIndex] = m\n",
    "for chain in document.corefChain:\n",
    "    print([mentions_dict[m.mentionID].entityMentionText for m in chain.mention])"
   ]
  },
  {
   "cell_type": "code",
   "execution_count": null,
   "id": "fbb7fa96",
   "metadata": {},
   "outputs": [],
   "source": [
    "document.corefChain[0].mention"
   ]
  },
  {
   "cell_type": "markdown",
   "id": "7638d160",
   "metadata": {},
   "source": [
    "**Exploration** :\n",
    "\n",
    "- Testez des exemples avec CoreNLP et neuralcoref et comparez les sorties. Quelles différences\n",
    "observe-t-on ?\n",
    "- Testez leur comportement sur des [schémas de\n",
    "  Winograd](https://cs.nyu.edu/~davise/papers/WinogradSchemas/WSCollection.html), si vous pouvez\n",
    "  faites des statistiques !"
   ]
  },
  {
   "cell_type": "markdown",
   "id": "28cfed8a",
   "metadata": {},
   "source": [
    "## Mesures d'évaluation\n",
    "\n",
    "Dans la suite, on considère qu'on dispose d'un ensemble $K$ (*key*) de chaînes de coréférences\n",
    "*gold* et d'un ensembe $R$ (*response*) de chaînes de coréférence détectées par un système. Les\n",
    "chaînes sont vues comme des ensembles de mentions (représentées par des symboles arbitraires, par\n",
    "exemple des entiers."
   ]
  },
  {
   "cell_type": "markdown",
   "id": "9da9c7b7",
   "metadata": {},
   "source": [
    "On notera $\\lvert E\\rvert$ le *cardinal* d'un ensemble $E$, c'est-à-dire le nombre d'éléments qu'il contient."
   ]
  },
  {
   "cell_type": "markdown",
   "id": "b8de2444",
   "metadata": {},
   "source": [
    "### MUC\n",
    "\n",
    "$$\n",
    "\\newcommand\\card[1]{\\vert#1\\rvert}\n",
    "\\begin{equation}\n",
    "    \\begin{aligned}\n",
    "        P &= \\frac{\\sum_{r∈R'}(\\card{r}-\\card{p(r, K)})}{\\sum_{r∈R'}(\\card{r}-1)}\\\\\n",
    "        R &= \\frac{\\sum_{k∈K'}(\\card{k}-\\card{p(k, R)})}{\\sum_{k∈K'}(\\card{k}-1)}\n",
    "    \\end{aligned}\n",
    "\\end{equation}\n",
    "$$\n",
    "\n",
    "où $K'$ et $R'$ sont les ensembles des chaînes respectivement *gold* et système de longueurs au\n",
    "moins $2$ et $p(x, E) = \\{x\\cap A | A∈E\\}$.\n",
    "\n",
    "Intuitivement : précision/rappel de la détection des liens entre une mention et son plus proche\n",
    "antécédent."
   ]
  },
  {
   "cell_type": "markdown",
   "id": "35db91fe",
   "metadata": {},
   "source": [
    "### B³\n",
    "\n",
    "$$\n",
    "\\newcommand\\card[1]{\\vert#1\\rvert}\n",
    "\\begin{equation}\n",
    "    \\begin{aligned}\n",
    "        P &= \\frac{\\sum_{m∈M_R}\\frac{\\card{r(m)∩k(m)}}{\\card{r(m)}}}{\\card{M_R}}\\\\\n",
    "        R &= \\frac{\\sum_{m∈M_K}\\frac{\\card{r(m)∩k(m)}}{\\card{k(m)}}}{\\card{M_K}}\n",
    "    \\end{aligned}\n",
    "\\end{equation}\n",
    "$$\n",
    "\n",
    "Où $r(m)$ (resp. $k(r)$) la chaîne système (resp. *gold*) qui contient la mention $m$ et $M_R$ et\n",
    "$M_K$ sont les ensembles des mentions *gold* et système.\n",
    "\n",
    "Intuitivement, la précision, c'est la moyenne sur l'ensemble des mentions *gold* du taux de\n",
    "couverture de la chaîne *gold* associée à chaque mention $m$ par la chaîne système qui contient $m$."
   ]
  },
  {
   "cell_type": "markdown",
   "id": "970642c4",
   "metadata": {},
   "source": [
    "### CEAF\n",
    "\n",
    "$$\n",
    "\\begin{equation}\n",
    "    \\begin{aligned}\n",
    "        P &= \\frac{\\sum_{r∈R}ϕ(A⁻¹(r), r)}{\\sum_{r∈R}ϕ(r, r)}\\\\\n",
    "        R &= \\frac{\\sum_{k∈K}ϕ(k, A(k))}{\\sum_{k∈K}ϕ(k, k)}\n",
    "    \\end{aligned}\n",
    "\\end{equation}\n",
    "$$\n",
    "\n",
    "Où $ϕ$ est une fonction qui évalue l'accord entre deux ensembles et l'alignement $A$ associe à\n",
    "chaque chaîne *gold* une chaîne système de telle sorte que $\\sum ϕ(k, A(k)$ soit maximale. Si la\n",
    "fonction $ϕ$ est donnée, un tel alignement peut se trouver efficacement avec l'algorithme de\n",
    "Kuhn-Munkres (implémenté par exemple par\n",
    "[`scipy.optimize.linear_sum_assignment`](https://docs.scipy.org/doc/scipy-0.18.1/reference/generated/scipy.optimize.linear_sum_assignment.html).\n",
    "\n",
    "En pratique, on utilise surtout CEAFe, pour lequel la fonction est :\n",
    "\n",
    "$$\n",
    "\\newcommand\\card[1]{\\vert#1\\rvert}\n",
    "\\begin{equation}\n",
    "    ϕ₄: (k, r) ⟼ \\frac{2\\card{k∩r}}{\\card{k}+\\card{r}}\n",
    "\\end{equation}\n",
    "$$\n",
    "\n",
    "Autrement dit, l'indice de Sørensen-Dice.\n",
    "\n",
    "La définition peut paraître tordue, mais l'idée est sûrement la plus simple : pour évaluer la\n",
    "qualité de la partition en chaîne de l'ensemble des mention on choisit d'associer à chaque chaîne\n",
    "*gold* une chaîne système (en choisissant celle qui ressemble le plus) et on mesure l'accord moyen."
   ]
  },
  {
   "cell_type": "markdown",
   "id": "257f0540",
   "metadata": {},
   "source": [
    "### 😢 Exercice 😢\n",
    "\n",
    "On considèrera que les mentions sont représentés par les entiers de $1$ à $n$ pour un $n$ donné\n",
    "\n",
    "1. Écrire une fonction qui, étant donnés une liste de couples de mentions coréférentes et $n$,\n",
    "   renvoie l'ensemble des chaînes de coréférences correspondant (en considérant que les nombres qui\n",
    "   n'apparaissent pas dans un couple correspondent à des singletons).\n",
    "2. Implémenter MUC sous la forme d'une fonction qui prend en entrée un ensemble de chaînes de\n",
    "   coréférences *gold* et un ensemble de chaînes de coréférences système et renvoie la précision et\n",
    "   le rappel définis plus haut.\n",
    "3. Faire de même avec B³\n",
    "4. Utiliser les fonctions précédentes pour évaluer la qualité des sorties $R_{\\{1,2,3,4\\}}$\n",
    "   vis-à-vis de la référence $K$ :"
   ]
  },
  {
   "cell_type": "code",
   "execution_count": null,
   "id": "0331f8f0",
   "metadata": {},
   "outputs": [],
   "source": [
    "K = {(1, 2), (2, 3), (3, 4), (4, 5), (6, 7), (8, 9), (9, 10), (10, 11), (11, 12)}\n",
    "R1 = set()\n",
    "R2 = {(1, 2), (2, 3), (3, 4), (4, 5), (5, 6), (6, 7), (7, 8), (8, 9), (9, 10), (10, 11), (11, 12)}\n",
    "R3 = {(1, 2), (2, 3), (3, 4), (4, 5), (6, 7), (7, 8), (8, 9), (9, 10), (10, 11), (11, 12)}\n",
    "R4 = {(1, 2), (2, 3), (3, 4), (4, 5), (6, 7), (5, 8), (8, 9), (9, 10), (10, 11), (11, 12)}"
   ]
  }
 ],
 "metadata": {
  "jupytext": {
   "formats": "ipynb,md",
   "split_at_heading": true
  },
  "kernelspec": {
   "display_name": "Python 3 (ipykernel)",
   "language": "python",
   "name": "python3"
  }
 },
 "nbformat": 4,
 "nbformat_minor": 5
}
