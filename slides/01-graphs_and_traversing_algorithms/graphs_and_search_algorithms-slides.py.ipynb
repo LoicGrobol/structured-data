{
 "cells": [
  {
   "cell_type": "markdown",
   "id": "0471e107",
   "metadata": {
    "lines_to_next_cell": 0
   },
   "source": [
    "<!-- LTeX: language=fr -->"
   ]
  },
  {
   "cell_type": "markdown",
   "id": "680a9158",
   "metadata": {
    "slideshow": {
     "slide_type": "slide"
    }
   },
   "source": [
    "Cours 1 : Graphes et algorithmes de parcours\n",
    "============================================\n",
    "\n",
    "**Loïc Grobol** [<lgrobol@parisnanterre.fr>](mailto:lgrobol@parisnanterre.fr)\n",
    "\n",
    "2021-11-22"
   ]
  },
  {
   "cell_type": "code",
   "execution_count": null,
   "id": "9382a872",
   "metadata": {},
   "outputs": [],
   "source": [
    "from IPython.display import display, Markdown"
   ]
  },
  {
   "cell_type": "code",
   "execution_count": null,
   "id": "4300516d",
   "metadata": {},
   "outputs": [],
   "source": [
    "import matplotlib.pyplot as plt"
   ]
  },
  {
   "cell_type": "code",
   "execution_count": null,
   "id": "2a976083",
   "metadata": {},
   "outputs": [],
   "source": [
    "import networkx as nx"
   ]
  },
  {
   "cell_type": "markdown",
   "id": "5a48fe5f",
   "metadata": {},
   "source": [
    "## Graphes et représentations"
   ]
  },
  {
   "cell_type": "markdown",
   "id": "25a8f4c1",
   "metadata": {},
   "source": [
    "## 😴 Exo 😴\n",
    "\n",
    "Écrire une fonction en Python qui étant donné un graphe $G$, donné sous la forme d'un ensemble de\n",
    "nœuds et d'un ensemble d'arêtes et un nœud $a$ de $G$, renvoie l'ensemble des voisins de $a$ dans\n",
    "$G$.\n"
   ]
  },
  {
   "cell_type": "code",
   "execution_count": null,
   "id": "0c3868aa",
   "metadata": {},
   "outputs": [],
   "source": [
    "from typing import Any, Collection, Set, Tuple\n",
    "\n",
    "def neighbours(nodes: Collection, edges: Collection[Tuple[Any, Any]], a) -> Set:\n",
    "    pass # À toi de jouer"
   ]
  },
  {
   "cell_type": "code",
   "execution_count": null,
   "id": "2f86c253",
   "metadata": {},
   "outputs": [],
   "source": [
    "def neighbours(nodes: Collection, edges: Collection[Tuple[Any, Any]], a) -> Set:\n",
    "    res = []\n",
    "    for edge_start, edge_end in edges:\n",
    "        if a == edge_start:\n",
    "            res.append(edge_end)\n",
    "        elif a == edge_end:\n",
    "            res.append(edge_start)\n",
    "    return set(res)"
   ]
  },
  {
   "cell_type": "markdown",
   "id": "997d4c06",
   "metadata": {},
   "source": [
    "Pour tester"
   ]
  },
  {
   "cell_type": "code",
   "execution_count": null,
   "id": "61bc2d84",
   "metadata": {},
   "outputs": [],
   "source": [
    "import unittest\n",
    "tester = unittest.TestCase()\n",
    "\n",
    "graph_nodes = {1, 2, 3, 4, 5, 6}\n",
    "graph_edges = {(1, 2), (2, 3), (3, 4), (3, 5), (4, 5)}\n",
    "\n",
    "tester.assertEqual(neighbours(graph_nodes, graph_edges, 2), {1, 3})\n",
    "tester.assertEqual(neighbours(graph_nodes, graph_edges, 3), {2, 4, 5})\n",
    "tester.assertEqual(neighbours(graph_nodes, graph_edges, 6), set())"
   ]
  },
  {
   "cell_type": "code",
   "execution_count": null,
   "id": "af8ce499",
   "metadata": {},
   "outputs": [],
   "source": [
    "nx.draw_networkx(nx.Graph(graph_edges))"
   ]
  },
  {
   "cell_type": "markdown",
   "id": "0215317f",
   "metadata": {},
   "source": [
    "## 🕸️ Exo 🕸️\n",
    "\n",
    "Écrire des fonctions en Python qui permettent de convertir des graphes non-orientés sur $\\{1, …,\n",
    "n\\}$ entre les représentations suivantes :\n",
    "\n",
    "- Un ensemble de couples représentant les arêtes.\n",
    "- Une matrice d'adjacence (implémentée par un `array` numpy)\n",
    "- Un ensemble de listes d'adjacence (implémenté en Python par une liste de listes)\n",
    "\n",
    "On pourra supposer que les graphes en question ne contiennent pas de nœuds isolés"
   ]
  },
  {
   "cell_type": "code",
   "execution_count": null,
   "id": "d8092dc1",
   "metadata": {},
   "outputs": [],
   "source": [
    "from typing import Collection, Sequence, Tuple\n",
    "from numpy.typing import ArrayLike\n",
    "import numpy as np\n",
    "\n",
    "def edges_to_matrix(edges: Collection[Tuple[int, int]]) -> ArrayLike:\n",
    "    pass # À toi de jouer\n",
    "\n",
    "def matrix_to_list(matrix: ArrayLike) -> Sequence[Sequence[int]]:\n",
    "    pass # À toi de jouer\n",
    "\n",
    "def list_to_edges(lst: Sequence[Sequence[int]]) -> Collection[Tuple[int, int]]:\n",
    "    pass # À toi de jouer\n",
    "\n",
    "# Évidemment on peut choisir d'autres directions"
   ]
  },
  {
   "cell_type": "code",
   "execution_count": null,
   "id": "0f8c6fbc",
   "metadata": {},
   "outputs": [],
   "source": [
    "def edges_to_matrix(edges: Collection[Tuple[int, int]]) -> ArrayLike:\n",
    "    graph_size = max(n for e in edges for n in e)\n",
    "    res = np.zeros((graph_size, graph_size))\n",
    "    for edge_start, edge_end in edges:\n",
    "        res[edge_start-1, edge_end-1] = 1\n",
    "        res[edge_end-1, edge_start-1] = 1\n",
    "    return res\n",
    "\n",
    "def matrix_to_list(matrix: ArrayLike) -> Sequence[Sequence[int]]:\n",
    "    res = [[] for _ in range(matrix.shape[0])]\n",
    "    for i in range(matrix.shape[0]):\n",
    "        for j in range(matrix.shape[1]):\n",
    "            if matrix[i, j] == 1:\n",
    "                res[i].append(j+1)\n",
    "    return res\n",
    "\n",
    "def list_to_edges(lst: Sequence[Sequence[int]]) -> Collection[Tuple[int, int]]:\n",
    "    res = []\n",
    "    for i, neighbours in enumerate(lst, start=1):\n",
    "        for j in neighbours:\n",
    "            if j > i:\n",
    "                res.append((i, j))\n",
    "    return res"
   ]
  },
  {
   "cell_type": "markdown",
   "id": "191a288d",
   "metadata": {},
   "source": [
    "Pour tester"
   ]
  },
  {
   "cell_type": "code",
   "execution_count": null,
   "id": "dd0a82f2",
   "metadata": {},
   "outputs": [],
   "source": [
    "import unittest\n",
    "tester = unittest.TestCase()\n",
    "\n",
    "graph_edges = [(1, 2), (2, 3), (3, 4), (3, 5), (4, 5)]\n",
    "graph_matrix = np.array(\n",
    "    [\n",
    "        [0, 1, 0, 0, 0],\n",
    "        [1, 0, 1, 0, 0],\n",
    "        [0, 1, 0, 1, 1],\n",
    "        [0, 0, 1, 0, 1],\n",
    "        [0, 0, 1, 1, 0],\n",
    "    ]\n",
    ")\n",
    "graph_list = [\n",
    "    [2],\n",
    "    [1, 3],\n",
    "    [2, 4, 5],\n",
    "    [3, 5],\n",
    "    [3, 4]\n",
    "]\n",
    "\n",
    "assert (edges_to_matrix(graph_edges) == graph_matrix).all()\n",
    "tester.assertEqual(matrix_to_list(graph_matrix), graph_list)\n",
    "tester.assertEqual(list_to_edges(graph_list), graph_edges)"
   ]
  },
  {
   "cell_type": "code",
   "execution_count": null,
   "id": "446fcda4",
   "metadata": {},
   "outputs": [],
   "source": [
    "nx.draw_networkx(nx.Graph(graph_edges))"
   ]
  },
  {
   "cell_type": "markdown",
   "id": "2e3e73b6",
   "metadata": {},
   "source": [
    "## Chemins et connexité"
   ]
  },
  {
   "cell_type": "markdown",
   "id": "1a286f0e",
   "metadata": {},
   "source": [
    "## 🏝️ Exo 🏝️"
   ]
  },
  {
   "cell_type": "markdown",
   "id": "3d636fdb",
   "metadata": {},
   "source": [
    "### Recherche de chemin\n",
    "\n",
    "Écrire une fonction en Python qui étant donné un graphe $G$ sur $\\{1, …, n\\}$, donné sous la forme\n",
    "de votre choix, et deux entiers $a$ et $b$ compris entre $1$ et $n$ détermine s'il existe un chemin\n",
    "entre $a$ et $b$ dans $G$."
   ]
  },
  {
   "cell_type": "code",
   "execution_count": null,
   "id": "4f542427",
   "metadata": {},
   "outputs": [],
   "source": [
    "# Si le graphe est donné comme liste d'arêtes, il faut préciser n,\n",
    "# sinon, ce n'est pas la peine\n",
    "def has_path(graph, n: int, a: int, b: int) -> bool:\n",
    "    pass # À toi de coder"
   ]
  },
  {
   "cell_type": "code",
   "execution_count": null,
   "id": "fda45a31",
   "metadata": {},
   "outputs": [],
   "source": [
    "from typing import Dict, Optional, Set\n",
    "\n",
    "# On utilise un dict pour ne pas avoir à se préoccuper de shifter les indices,\n",
    "# notre graphe étant sur {1, …, n} et les indices de listes de taille n étant\n",
    "# 0, …, n-1.\n",
    "# On utilise des ensembles plutôt que des listes d'adjacence pour éviter de se\n",
    "# poser des questions si jamais on a des arêtes répétées\n",
    "def edges_to_adjacency_dict(graph: Collection[Tuple[int, int]], n: Optional[int]=None) -> Dict[int, Set[int]]:\n",
    "    if n is None:\n",
    "        n = max(idx for edge in graph for idx in edge)\n",
    "    res = {i: set() for i in range(1, n+1)}\n",
    "    for a, b in graph:\n",
    "        res[a].add(b)\n",
    "        res[b].add(a)\n",
    "    return res"
   ]
  },
  {
   "cell_type": "code",
   "execution_count": null,
   "id": "20f57f4c",
   "metadata": {},
   "outputs": [],
   "source": [
    "def has_path(graph: Dict[int, Set[int]], a: int, b: int) -> bool:\n",
    "    stack = [a]\n",
    "    visited = set()\n",
    "    while stack:\n",
    "        current_node = stack.pop()\n",
    "        if current_node in visited:\n",
    "            continue\n",
    "        visited.add(current_node)\n",
    "        for neighbour in graph[current_node]:\n",
    "            if neighbour == b:\n",
    "                return True\n",
    "            elif neighbour in visited:\n",
    "                continue\n",
    "            else:\n",
    "                stack.append(neighbour)\n",
    "    return False"
   ]
  },
  {
   "cell_type": "markdown",
   "id": "a68c3126",
   "metadata": {},
   "source": [
    "Pour tester\n"
   ]
  },
  {
   "cell_type": "code",
   "execution_count": null,
   "id": "4d630675",
   "metadata": {},
   "outputs": [],
   "source": [
    "graph = edges_to_adjacency_dict([(1, 2), (3, 4), (3, 5), (4, 5)], 5)\n",
    "assert has_path(graph, 1, 2)\n",
    "assert has_path(graph, 2, 1)\n",
    "assert has_path(graph, 3, 5)\n",
    "assert not has_path(graph, 1, 3)\n",
    "assert not has_path(graph, 5, 2)\n",
    "graph[6] = set()\n",
    "assert not has_path(graph, 1, 6)"
   ]
  },
  {
   "cell_type": "code",
   "execution_count": null,
   "id": "f147b88e",
   "metadata": {},
   "outputs": [],
   "source": [
    "nx.draw_networkx(nx.Graph(graph))"
   ]
  },
  {
   "cell_type": "markdown",
   "id": "69e8ece9",
   "metadata": {},
   "source": [
    "### Test de connexité\n",
    "\n",
    "Écrire une fonction en Python qui détermine si un graphe sur $\\{1, …, n\\}$, donné sous la forme de\n",
    "votre choix, est connexe."
   ]
  },
  {
   "cell_type": "code",
   "execution_count": null,
   "id": "2b78401c",
   "metadata": {},
   "outputs": [],
   "source": [
    "def is_connex(graph, n: int) -> bool:\n",
    "    pass # À toi de coder"
   ]
  },
  {
   "cell_type": "code",
   "execution_count": null,
   "id": "a76dda26",
   "metadata": {},
   "outputs": [],
   "source": [
    "def is_connex(graph: Dict[int, Set[int]]) -> bool:\n",
    "    start = next(iter(graph.keys()))\n",
    "    to_visit = [start]\n",
    "    visited = set()\n",
    "    while to_visit:\n",
    "        current_node = to_visit.pop()\n",
    "        if current_node in visited:\n",
    "            continue\n",
    "        visited.add(current_node)\n",
    "        for neighbour in graph[current_node]:\n",
    "            if neighbour in visited:\n",
    "                continue\n",
    "            else:\n",
    "                to_visit.append(neighbour)\n",
    "    return len(visited) == len(graph)"
   ]
  },
  {
   "cell_type": "code",
   "execution_count": null,
   "id": "a471d5b8",
   "metadata": {},
   "outputs": [],
   "source": [
    "assert is_connex(edges_to_adjacency_dict([(1, 2), (2, 3), (3, 4), (3, 5), (4, 5)]))\n",
    "assert not is_connex(edges_to_adjacency_dict([(1, 2), (2, 3), (3, 4), (3, 5), (4, 5)], 6))\n",
    "assert not is_connex(edges_to_adjacency_dict([(1, 2), (3, 4), (3, 5), (4, 5)]))"
   ]
  },
  {
   "cell_type": "code",
   "execution_count": null,
   "id": "757a657d",
   "metadata": {},
   "outputs": [],
   "source": [
    "nx.draw_networkx(nx.Graph(edges_to_adjacency_dict([(1, 2), (2, 3), (3, 4), (3, 5), (4, 5)])))"
   ]
  },
  {
   "cell_type": "code",
   "execution_count": null,
   "id": "46d576c8",
   "metadata": {},
   "outputs": [],
   "source": [
    "nx.draw_networkx(nx.Graph(edges_to_adjacency_dict([(1, 2), (2, 3), (3, 4), (3, 5), (4, 5)], 6)))"
   ]
  },
  {
   "cell_type": "code",
   "execution_count": null,
   "id": "94997e12",
   "metadata": {},
   "outputs": [],
   "source": [
    "nx.draw_networkx(nx.Graph(edges_to_adjacency_dict([(1, 2), (3, 4), (3, 5), (4, 5)])))"
   ]
  },
  {
   "cell_type": "markdown",
   "id": "9d675bc6",
   "metadata": {},
   "source": [
    "### Composantes connexes\n",
    "\n",
    "Écrire une fonction en Python qui étant donné un graphe sur $\\{1, …, n\\}$, donné sous la forme de\n",
    "votre choix, renvoie ses composantes connexes maximales sous forme d'une liste de listes d'entiers."
   ]
  },
  {
   "cell_type": "code",
   "execution_count": null,
   "id": "023f167e",
   "metadata": {},
   "outputs": [],
   "source": [
    "from typing import List\n",
    "\n",
    "def connex_components(graph, n: int) -> List[List[int]]:\n",
    "    pass # À toi de coder"
   ]
  },
  {
   "cell_type": "code",
   "execution_count": null,
   "id": "473e656f",
   "metadata": {},
   "outputs": [],
   "source": [
    "from typing import List\n",
    "\n",
    "def connex_components(graph: Dict[int, Set[int]]) -> List[List[int]]:\n",
    "    res: List[List[int]] = []\n",
    "    to_visit = [next(iter(graph.keys()))]\n",
    "    visited = set()\n",
    "    current_component = []\n",
    "    while len(visited) < len(graph):\n",
    "        if not to_visit:\n",
    "            res.append(current_component)\n",
    "            current_component = []\n",
    "            current_node = next(n for n in graph.keys() if n not in visited)\n",
    "        else:\n",
    "            current_node = to_visit.pop()\n",
    "            if current_node in visited:\n",
    "                continue\n",
    "        visited.add(current_node)\n",
    "        current_component.append(current_node)\n",
    "        for neighbour in graph[current_node]:\n",
    "            # On pourrait éviter `visited` et se contenter de regarder si les\n",
    "            # voisins sont danc `current_component`\n",
    "            if neighbour in visited:\n",
    "                continue\n",
    "            else:\n",
    "                to_visit.append(neighbour)\n",
    "    res.append(current_component)\n",
    "    return res"
   ]
  },
  {
   "cell_type": "code",
   "execution_count": null,
   "id": "e96d00b2",
   "metadata": {},
   "outputs": [],
   "source": [
    "connex_components(edges_to_adjacency_dict([(1, 2), (2, 3), (3, 4), (3, 5), (4, 5)]))"
   ]
  },
  {
   "cell_type": "code",
   "execution_count": null,
   "id": "eee09c3b",
   "metadata": {},
   "outputs": [],
   "source": [
    "nx.draw_networkx(nx.Graph(edges_to_adjacency_dict([(1, 2), (2, 3), (3, 4), (3, 5), (4, 5)])))"
   ]
  },
  {
   "cell_type": "code",
   "execution_count": null,
   "id": "d1516048",
   "metadata": {},
   "outputs": [],
   "source": [
    "connex_components(edges_to_adjacency_dict([(1, 2), (3, 4), (3, 5), (4, 5)]))"
   ]
  },
  {
   "cell_type": "code",
   "execution_count": null,
   "id": "b18bde45",
   "metadata": {},
   "outputs": [],
   "source": [
    "nx.draw_networkx(nx.Graph(edges_to_adjacency_dict([(1, 2), (3, 4), (3, 5), (4, 5)])))"
   ]
  },
  {
   "cell_type": "markdown",
   "id": "fe9f349b",
   "metadata": {},
   "source": [
    "## Graphes particuliers"
   ]
  },
  {
   "cell_type": "markdown",
   "id": "760743d4",
   "metadata": {},
   "source": [
    "## 🌳 Exo 🌳"
   ]
  },
  {
   "cell_type": "markdown",
   "id": "f83277ee",
   "metadata": {},
   "source": [
    "### Graphes connexes\n",
    "\n",
    "Écrire des fonctions en Python qui déterminent si un graphe connexe donné est\n",
    "\n",
    "- Un graphe complet\n",
    "- Une étoile\n",
    "- Une chaîne"
   ]
  },
  {
   "cell_type": "code",
   "execution_count": null,
   "id": "3f199fb9",
   "metadata": {},
   "outputs": [],
   "source": [
    "def is_complete(graph) -> bool:\n",
    "    pass # À toi de coder"
   ]
  },
  {
   "cell_type": "markdown",
   "id": "c8e9693a",
   "metadata": {},
   "source": [
    "On exploite le fait qu'un graphe complet simple non-orienté à $n$ nœuds a $\\frac{n(n-1)}{2}$ arêtes."
   ]
  },
  {
   "cell_type": "code",
   "execution_count": null,
   "id": "08a57d01",
   "metadata": {},
   "outputs": [],
   "source": [
    "def is_complete(graph) -> bool:\n",
    "    n = max(e for edge in graph for e in edge)\n",
    "    return len(graph) == n*(n-1)/2"
   ]
  },
  {
   "cell_type": "code",
   "execution_count": null,
   "id": "09d01995",
   "metadata": {},
   "outputs": [],
   "source": [
    "assert is_complete([(1, 2), (1, 3), (1, 4), (2, 3), (2, 4), (3, 4)])\n",
    "assert not is_complete([(1, 2), (1, 3), (1, 4), (2, 4), (3, 4)])"
   ]
  },
  {
   "cell_type": "code",
   "execution_count": null,
   "id": "84a008f2",
   "metadata": {},
   "outputs": [],
   "source": [
    "nx.draw_networkx(nx.Graph([(1, 2), (1, 3), (1, 4), (2, 3), (2, 4), (3, 4)]))"
   ]
  },
  {
   "cell_type": "code",
   "execution_count": null,
   "id": "7647be79",
   "metadata": {},
   "outputs": [],
   "source": [
    "nx.draw_networkx(nx.Graph([(1, 2), (1, 3), (1, 4), (2, 4), (3, 4)]))"
   ]
  },
  {
   "cell_type": "markdown",
   "id": "74518d93",
   "metadata": {},
   "source": [
    "Si jamais il risque d'y avoir des doublons dans la représentation"
   ]
  },
  {
   "cell_type": "code",
   "execution_count": null,
   "id": "b1dc0331",
   "metadata": {},
   "outputs": [],
   "source": [
    "def is_complete(graph) -> bool:\n",
    "    n = max(e for edge in graph for e in edge)\n",
    "    dedup = set(sorted(e) for e in graph)\n",
    "    return len(dedup) == n*(n-1)/2"
   ]
  },
  {
   "cell_type": "code",
   "execution_count": null,
   "id": "ed623b19",
   "metadata": {},
   "outputs": [],
   "source": [
    "def is_star(graph) -> bool:\n",
    "    pass # À toi de coder"
   ]
  },
  {
   "cell_type": "markdown",
   "id": "6db4b701",
   "metadata": {},
   "source": [
    "Il y a plusieurs façon de faire, mais la plus simple, comme on sait déja que le graphe est connexe c'est de compter les degrés des nœuds."
   ]
  },
  {
   "cell_type": "code",
   "execution_count": null,
   "id": "ff942f35",
   "metadata": {},
   "outputs": [],
   "source": [
    "def is_star(graph) -> bool:\n",
    "    adj_dict = edges_to_adjacency_dict(graph)\n",
    "    center_found = False\n",
    "    for neighbours in adj_dict.values():\n",
    "        if len(neighbours) != 1:\n",
    "            if center_found:\n",
    "                return False\n",
    "            else:\n",
    "                center_found = True\n",
    "    return True"
   ]
  },
  {
   "cell_type": "code",
   "execution_count": null,
   "id": "93954203",
   "metadata": {},
   "outputs": [],
   "source": [
    "assert is_star([(1, 2), (1, 3), (1, 4), (1, 5)])\n",
    "assert not is_star([(1, 2), (1, 3), (1, 4), (1, 5), (2, 3)])\n",
    "assert not is_star([(1, 2), (2, 3), (3, 4), (4, 5)])"
   ]
  },
  {
   "cell_type": "code",
   "execution_count": null,
   "id": "3bc5a991",
   "metadata": {},
   "outputs": [],
   "source": [
    "graphs = [\n",
    "    [(1, 2), (1, 3), (1, 4), (1, 5)],\n",
    "    [(1, 2), (1, 3), (1, 4), (1, 5), (2, 3)],\n",
    "    [(1, 2), (2, 3), (3, 4), (4, 5)],\n",
    "]\n",
    "fig, axes = plt.subplots(len(graphs))\n",
    "for g, ax in zip(graphs, axes):\n",
    "    nx.draw_networkx(nx.Graph(g), ax=ax)"
   ]
  },
  {
   "cell_type": "code",
   "execution_count": null,
   "id": "9d0e2a2e",
   "metadata": {},
   "outputs": [],
   "source": [
    "def is_chain(graph) -> bool:\n",
    "    pass # À toi de coder"
   ]
  },
  {
   "cell_type": "markdown",
   "id": "c156bb1c",
   "metadata": {},
   "source": [
    "Même idée que pour les étoiles : on compte les degrés"
   ]
  },
  {
   "cell_type": "code",
   "execution_count": null,
   "id": "0cbb126f",
   "metadata": {},
   "outputs": [],
   "source": [
    "def is_chain(graph) -> bool:\n",
    "    adj_dict = edges_to_adjacency_dict(graph)\n",
    "    ends_found = 0\n",
    "    for neighbours in adj_dict.values():\n",
    "        if len(neighbours) != 2:\n",
    "            if len(neighbours) != 1:\n",
    "                return False\n",
    "            elif ends_found == 2:\n",
    "                return False\n",
    "            else:\n",
    "                ends_found += 1\n",
    "    # Si le graphe est un cercle, il se peut que tous\n",
    "    # les nœuds soient de degré 2\n",
    "    return ends_found == 2"
   ]
  },
  {
   "cell_type": "code",
   "execution_count": null,
   "id": "f139bd1e",
   "metadata": {},
   "outputs": [],
   "source": [
    "assert is_chain([(1, 2), (2, 3), (3, 4), (4, 5)])\n",
    "assert not is_chain([(1, 2), (2, 3), (3, 4), (4, 5), (5, 1)])\n",
    "assert not is_chain([(1, 2), (1, 3), (1, 4), (1, 5)])"
   ]
  },
  {
   "cell_type": "code",
   "execution_count": null,
   "id": "d6d4474b",
   "metadata": {},
   "outputs": [],
   "source": [
    "graphs = [\n",
    "    [(1, 2), (1, 3), (1, 4), (1, 5)],\n",
    "    [(1, 2), (1, 3), (1, 4), (1, 5), (2, 3)],\n",
    "    [(1, 2), (2, 3), (3, 4), (4, 5)],\n",
    "]\n",
    "fig, axes = plt.subplots(len(graphs))\n",
    "for g, ax in zip(graphs, axes):\n",
    "    nx.draw_networkx(nx.Graph(g), ax=ax)\n",
    "plt.show()"
   ]
  },
  {
   "cell_type": "markdown",
   "id": "8b731f90",
   "metadata": {},
   "source": [
    "### Recherche de gouverneur\n",
    "\n",
    "Écrire une fonction en Python qui étant donné une arborescence (sous la forme d'un arbre et d'une\n",
    "racine dans cet arbre) renvoie un dictionnaire qui associe à chaque nœud son gouverneur."
   ]
  },
  {
   "cell_type": "markdown",
   "id": "91f285ba",
   "metadata": {},
   "source": [
    "On fait simplement un parcours en profondeur en partant de la racine et en gardant trace du chemin\n",
    "suivi, c'est-à-dire que pour chaque nœud, on note le nœud à partir duquel on y a accédé. Comme dans\n",
    "un arbre, il n'y a qu'un seul chemin élémentaire qui mène de la racine à un nœud donné, ce nœud est\n",
    "forcément le parent recherché."
   ]
  },
  {
   "cell_type": "code",
   "execution_count": null,
   "id": "1581edb4",
   "metadata": {},
   "outputs": [],
   "source": [
    "def get_parent(tree: Dict[int, Set[int]], root: int) -> Dict[int, int]:\n",
    "    to_visit = [root]\n",
    "    # Pour marquer la racine on choisit de lui mettre une boucle, ainsi tous les\n",
    "    # nœuds visités ont un parent.\n",
    "    # On aurait aussi pu commencer avec un dictionnaire vide et utiliser\n",
    "    # `parent.value` pour vérifier si un nœud a déjà été visité\n",
    "    parent: Dict[int, int] = {root: root}\n",
    "    while to_visit:\n",
    "        current_node = to_visit.pop()\n",
    "        for neighbour in tree[current_node]:\n",
    "            # N'arrivera que pour le parent de current_node\n",
    "            if neighbour in parent:\n",
    "                assert neighbour == parent[current_node]\n",
    "            else:\n",
    "                parent[neighbour] = current_node\n",
    "                to_visit.append(neighbour)\n",
    "    return parent"
   ]
  },
  {
   "cell_type": "code",
   "execution_count": null,
   "id": "0086f593",
   "metadata": {},
   "outputs": [],
   "source": [
    "tree = edges_to_adjacency_dict([(1, 2), (1, 3), (2, 4), (2, 5)])"
   ]
  },
  {
   "cell_type": "code",
   "execution_count": null,
   "id": "649209f2",
   "metadata": {},
   "outputs": [],
   "source": [
    "nx.draw_networkx(nx.Graph(tree))"
   ]
  },
  {
   "cell_type": "code",
   "execution_count": null,
   "id": "316810e0",
   "metadata": {},
   "outputs": [],
   "source": [
    "get_parent(tree, 1)"
   ]
  },
  {
   "cell_type": "markdown",
   "id": "958bc44f",
   "metadata": {},
   "source": [
    "### Détection de cycles\n",
    "\n",
    "Écrire une fonction en Python qui étant donné un graphe connexe indique s'il contient au moins un\n",
    "cycle élémentaire. En déduire une fonction qui détermine si un graphe connexe donné est un arbre.\n"
   ]
  },
  {
   "cell_type": "code",
   "execution_count": null,
   "id": "a024cf76",
   "metadata": {},
   "outputs": [],
   "source": [
    "def has_cycle(graph) -> bool:\n",
    "    pass # À toi de coder"
   ]
  },
  {
   "cell_type": "markdown",
   "id": "f49a9036",
   "metadata": {},
   "source": [
    "On a vu dans l'exercice précédent que l'algorithme de parcours en profondeur nous permettait de\n",
    "parcourir une arborescence en gardant trace des nœuds parents en se servant du fait qu'il n'y avait\n",
    "qu'un seul chemin élémentaire allant de la racine à un nœud donné. On va faire exactement la même\n",
    "chose ici, sauf qu'on va au contraire rechercher les cas où cette propriété n'est pas vérifiée."
   ]
  },
  {
   "cell_type": "markdown",
   "id": "a37f6b89",
   "metadata": {},
   "source": [
    "L'idée est la suivante : il y a un cycle si et seulement s'il existe un nœud pour lequel il y a deux\n",
    "chemins élémentaires distincts menant à la racine, si et seulement s'il existe un nœud pour lequel\n",
    "l'algorithme de parcours en profondeur trouve deux parents."
   ]
  },
  {
   "cell_type": "code",
   "execution_count": null,
   "id": "f4eb1054",
   "metadata": {},
   "outputs": [],
   "source": [
    "def has_cycle(graph: Dict[int, Set[int]]) -> bool:\n",
    "    \"\"\"ATTENTION: ne marche que pour un graphe connexe\"\"\"\n",
    "    root = next(iter(graph.keys()))\n",
    "    to_visit = [root]\n",
    "    parent: Dict[int, int] = {root: root}\n",
    "    while to_visit:\n",
    "        current_node = to_visit.pop()\n",
    "        for neighbour in graph[current_node]:\n",
    "            if neighbour in parent:\n",
    "                if neighbour != parent[current_node]:\n",
    "                    return True\n",
    "            else:\n",
    "                parent[neighbour] = current_node\n",
    "                to_visit.append(neighbour)\n",
    "    return False"
   ]
  },
  {
   "cell_type": "markdown",
   "id": "c37390e0",
   "metadata": {},
   "source": [
    "Une fois qu'on ça, comme pour un graphe connexe, être un arbre et être acyclique sont équivalents,\n",
    "il suffit juste de vérifier si le graphe donné a un cycle."
   ]
  },
  {
   "cell_type": "code",
   "execution_count": null,
   "id": "ed2c5d54",
   "metadata": {},
   "outputs": [],
   "source": [
    "def is_tree(graph: Dict[int, Set[int]]) -> bool:\n",
    "    return not has_cycle(graph)"
   ]
  },
  {
   "cell_type": "code",
   "execution_count": null,
   "id": "b4348f2f",
   "metadata": {},
   "outputs": [],
   "source": [
    "assert is_tree(edges_to_adjacency_dict([(1, 2), (1, 3), (1, 4), (1, 5)]))\n",
    "assert is_tree(edges_to_adjacency_dict([(1, 2), (2, 3), (3, 4), (4, 5)]))\n",
    "assert is_tree(edges_to_adjacency_dict([(1, 2), (1, 3), (2, 4), (2, 5)]))\n",
    "assert not is_tree(edges_to_adjacency_dict([(1, 2), (1, 3), (2, 4), (2, 5), (5, 4)]))\n",
    "assert not is_tree(edges_to_adjacency_dict([(1, 2), (1, 3), (2, 4), (2, 5), (4, 3)]))"
   ]
  },
  {
   "cell_type": "code",
   "execution_count": null,
   "id": "7124fc52",
   "metadata": {},
   "outputs": [],
   "source": [
    "graphs = [\n",
    "   [(1, 2), (1, 3), (1, 4), (1, 5)],\n",
    "    [(1, 2), (2, 3), (3, 4), (4, 5)],\n",
    "    [(1, 2), (1, 3), (2, 4), (2, 5)],\n",
    "    [(1, 2), (1, 3), (2, 4), (2, 5), (5, 4)],\n",
    "    [(1, 2), (1, 3), (2, 4), (2, 5), (4, 3)],\n",
    "]\n",
    "fig, axes = plt.subplots(len(graphs))\n",
    "for g, ax in zip(graphs, axes):\n",
    "    nx.draw_networkx(nx.Graph(g), ax=ax)"
   ]
  },
  {
   "cell_type": "markdown",
   "id": "984ff49a",
   "metadata": {},
   "source": [
    "### Forêts\n",
    "\n",
    "Écrire une fonction en Python qui détermine si un graphe donné est une forêt."
   ]
  },
  {
   "cell_type": "markdown",
   "id": "88829ed3",
   "metadata": {},
   "source": [
    "Une solution facile c'est de d'abord trouver les composantes connexes maximales, puis de déterminer si chacune d'entre elles est un arbre. Comme ça on a pas à réécrire de fonction. Mais on peut aussi combiner les deux : pendant qu'on est en train de parcourir les composantes, on peut aussi bien en profiter pour vérifier qu'elles sont acycliques. Concrètement ça va se passer exactement pareil que précédemment, simplement on a aura potentiellement plusieurs racines."
   ]
  },
  {
   "cell_type": "code",
   "execution_count": null,
   "id": "d7a24e1a",
   "metadata": {},
   "outputs": [],
   "source": [
    "def is_forest(graph: Dict[int, Set[int]]) -> bool:\n",
    "    visited = set()\n",
    "    to_visit = []\n",
    "    parent: Dict[int, int] = dict()\n",
    "    while len(visited) < len(graph):\n",
    "        if not to_visit:\n",
    "            current_node = next(n for n in graph.keys() if n not in visited)\n",
    "            parent[current_node] = current_node\n",
    "        else:\n",
    "            current_node = to_visit.pop()\n",
    "        visited.add(current_node)\n",
    "        for neighbour in graph[current_node]:\n",
    "            if neighbour in parent:\n",
    "                if neighbour != parent[current_node]:\n",
    "                    return False\n",
    "            else:\n",
    "                parent[neighbour] = current_node\n",
    "                to_visit.append(neighbour)\n",
    "    return True"
   ]
  },
  {
   "cell_type": "code",
   "execution_count": null,
   "id": "0c9a7f58",
   "metadata": {},
   "outputs": [],
   "source": [
    "# Les arbres sont des forêts\n",
    "assert is_forest(edges_to_adjacency_dict([(1, 2), (1, 3), (1, 4), (1, 5)]))\n",
    "assert is_forest(edges_to_adjacency_dict([(1, 2), (2, 3), (3, 4), (4, 5)]))\n",
    "assert is_forest(edges_to_adjacency_dict([(1, 2), (1, 3), (2, 4), (2, 5)]))\n",
    "# Retirer une arête à un arbre donne une forêt\n",
    "assert is_forest(edges_to_adjacency_dict([(1, 2), (1, 4), (1, 5)]))\n",
    "assert is_forest(edges_to_adjacency_dict([(1, 2), (3, 4), (4, 5)]))\n",
    "assert is_forest(edges_to_adjacency_dict([(1, 2), (1, 3), (2, 5)]))\n",
    "# Ajouter une arête à un arbre crée un cycle : pas de forêt !\n",
    "assert not is_forest(edges_to_adjacency_dict([(1, 2), (1, 3), (2, 4), (2, 5), (5, 1)]))\n",
    "# Et d'autres non-forêts\n",
    "assert not is_forest(edges_to_adjacency_dict([(1, 3), (2, 4), (2, 5), (5, 4)]))"
   ]
  },
  {
   "cell_type": "code",
   "execution_count": null,
   "id": "2cba3f71",
   "metadata": {},
   "outputs": [],
   "source": [
    "graphs = [\n",
    "   [(1, 2), (1, 3), (1, 4), (1, 5)],\n",
    "    [(1, 2), (2, 3), (3, 4), (4, 5)],\n",
    "    [(1, 2), (1, 3), (2, 4), (2, 5)],\n",
    "    [(1, 2), (1, 4), (1, 5)],\n",
    "    [(1, 2), (3, 4), (4, 5)],\n",
    "    [(1, 2), (1, 3), (2, 5)],\n",
    "    [(1, 2), (1, 3), (2, 4), (2, 5), (5, 1)],\n",
    "    [(1, 3), (2, 4), (2, 5), (5, 4)],\n",
    "]\n",
    "fig, axes = plt.subplots(len(graphs))\n",
    "for g, ax in zip(graphs, axes):\n",
    "    nx.draw_networkx(nx.Graph(g), ax=ax)"
   ]
  },
  {
   "cell_type": "markdown",
   "id": "b05d20df",
   "metadata": {},
   "source": [
    "### ⚠️ Génération d'arbres ⚠️\n",
    "\n",
    "Écrire une fonction en Python qui étant donné un entier $n$ génère tous les arbres sur $\\{0, …, n-1\\}$. C'est une bonne idée de commencer par raisonner par induction et d'utiliser la récursivité."
   ]
  }
 ],
 "metadata": {
  "jupytext": {
   "formats": "ipynb,md",
   "split_at_heading": true
  },
  "kernelspec": {
   "display_name": "Python 3 (ipykernel)",
   "language": "python",
   "name": "python3"
  }
 },
 "nbformat": 4,
 "nbformat_minor": 5
}
