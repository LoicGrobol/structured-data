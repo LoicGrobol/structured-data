{
 "cells": [
  {
   "cell_type": "markdown",
   "id": "f963ed03",
   "metadata": {
    "lines_to_next_cell": 0
   },
   "source": [
    "<!-- LTeX: language=fr -->"
   ]
  },
  {
   "cell_type": "markdown",
   "id": "ef4ad313",
   "metadata": {
    "slideshow": {
     "slide_type": "slide"
    }
   },
   "source": [
    "Cours 2 : Réseaux lexicaux\n",
    "============================================\n",
    "\n",
    "**Loïc Grobol** [<lgrobol@parisnanterre.fr>](mailto:lgrobol@parisnanterre.fr)\n",
    "\n",
    "2021-12-01"
   ]
  },
  {
   "cell_type": "code",
   "execution_count": null,
   "id": "d5d717dc",
   "metadata": {},
   "outputs": [],
   "source": [
    "from IPython.display import display, Markdown"
   ]
  },
  {
   "cell_type": "markdown",
   "id": "79077c25",
   "metadata": {},
   "source": [
    "## Wordnet"
   ]
  },
  {
   "cell_type": "code",
   "execution_count": null,
   "id": "e140ba05",
   "metadata": {},
   "outputs": [],
   "source": [
    "%pip install -U wn"
   ]
  },
  {
   "cell_type": "code",
   "execution_count": null,
   "id": "a7a5b376",
   "metadata": {},
   "outputs": [],
   "source": [
    "import wn"
   ]
  },
  {
   "cell_type": "code",
   "execution_count": null,
   "id": "54bcc093",
   "metadata": {},
   "outputs": [],
   "source": [
    "wn.download(\"ewn:2020\")"
   ]
  },
  {
   "cell_type": "code",
   "execution_count": null,
   "id": "79e6f0f3",
   "metadata": {},
   "outputs": [],
   "source": [
    "wn.words(\"cat\")"
   ]
  },
  {
   "cell_type": "code",
   "execution_count": null,
   "id": "5ab8a077",
   "metadata": {},
   "outputs": [],
   "source": [
    "wn.synsets(\"cat\")"
   ]
  },
  {
   "cell_type": "code",
   "execution_count": null,
   "id": "44498f70",
   "metadata": {},
   "outputs": [],
   "source": [
    "for ss in wn.synsets(\"cat\"):\n",
    "    print(ss.words())"
   ]
  },
  {
   "cell_type": "code",
   "execution_count": null,
   "id": "ec551af4",
   "metadata": {},
   "outputs": [],
   "source": [
    "for ss in wn.synsets(\"cat\"):\n",
    "    print(ss.definition())\n",
    "    print([w.lemma() for w in ss.words()])\n",
    "    print()"
   ]
  },
  {
   "cell_type": "code",
   "execution_count": null,
   "id": "eb5049bd",
   "metadata": {},
   "outputs": [],
   "source": [
    "wn.synsets(\"cat\")[0].hypernyms()[0].words()"
   ]
  },
  {
   "cell_type": "code",
   "execution_count": null,
   "id": "389f0d4b",
   "metadata": {},
   "outputs": [],
   "source": [
    "wn.synsets(\"cat\")[0].hyponyms()[0].words()"
   ]
  },
  {
   "cell_type": "code",
   "execution_count": null,
   "id": "14e59834",
   "metadata": {},
   "outputs": [],
   "source": [
    " wn.synsets(\"alphabet\")[0].get_related(\"mero_member\")[0].words()"
   ]
  },
  {
   "cell_type": "code",
   "execution_count": null,
   "id": "f56e194f",
   "metadata": {},
   "outputs": [],
   "source": [
    " wn.synsets(\"human\")[0].get_related(\"holo_member\")[0].words()"
   ]
  },
  {
   "cell_type": "code",
   "execution_count": null,
   "id": "8830bd71",
   "metadata": {},
   "outputs": [],
   "source": [
    "[ss.words() for ss in wn.synsets(\"bagpipe\")[0].shortest_path(wn.synsets(\"cat\")[0])]"
   ]
  },
  {
   "cell_type": "code",
   "execution_count": null,
   "id": "f8feee59",
   "metadata": {},
   "outputs": [],
   "source": [
    "import wn.similarity\n",
    "\n",
    "wn.similarity.path(wn.synsets(\"bagpipe\")[0], wn.synsets(\"cat\")[0])"
   ]
  },
  {
   "cell_type": "markdown",
   "id": "28b99341",
   "metadata": {},
   "source": [
    "## Exo"
   ]
  },
  {
   "cell_type": "markdown",
   "id": "2a83932a",
   "metadata": {},
   "source": [
    "### Similarités path et vectorielles"
   ]
  },
  {
   "cell_type": "code",
   "execution_count": null,
   "id": "866590ac",
   "metadata": {},
   "outputs": [],
   "source": [
    "%pip install gensim"
   ]
  },
  {
   "cell_type": "code",
   "execution_count": null,
   "id": "d3a3c50e",
   "metadata": {},
   "outputs": [],
   "source": [
    "import gensim.downloader as api\n",
    "wv = api.load(\"glove-wiki-gigaword-50\")"
   ]
  },
  {
   "cell_type": "code",
   "execution_count": null,
   "id": "75fb4d28",
   "metadata": {},
   "outputs": [],
   "source": [
    "wv.similarity(\"cat\", \"bagpipe\")"
   ]
  },
  {
   "cell_type": "markdown",
   "id": "ee6b308a",
   "metadata": {},
   "source": [
    "1\\. Visualiser avec matplotlib la corrélation entre similarité path dans `ewn:2020` et similarité cosinus dans `glove-wiki-gigaword-50` en considérant des paires de mots choisies aléatoirement dans l'intersection de leurs vocabulaires.\n",
    "\n",
    "2\\. Déterminer numériquement cette corrélation, par exemple avec [`scipy.stats.linregress`](model.wv.similarity('france', 'spain')"
   ]
  },
  {
   "cell_type": "markdown",
   "id": "64b2f3bf",
   "metadata": {},
   "source": [
    "### Recherche d'analogies\n",
    "\n",
    "Une analogie est relation du type « *doigt* est à *main* ce que *orteil* est à *pied* », ce qu'on note parfois `doigt:main :: orteil:pied`. Chercher dans WordNet des analogies de ce type en utilisant la méthode [`wn.Synset.relations`](https://wn.readthedocs.io/en/latest/api/wn.html?highlight=relation_paths#wn.Synset.relations)."
   ]
  }
 ],
 "metadata": {
  "jupytext": {
   "formats": "ipynb,md",
   "split_at_heading": true
  },
  "kernelspec": {
   "display_name": "Python 3 (ipykernel)",
   "language": "python",
   "name": "python3"
  }
 },
 "nbformat": 4,
 "nbformat_minor": 5
}
