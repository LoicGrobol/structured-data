{
 "cells": [
  {
   "cell_type": "markdown",
   "id": "1a9b96e2",
   "metadata": {},
   "source": [
    "<!-- LTeX: language=fr -->"
   ]
  },
  {
   "cell_type": "markdown",
   "id": "b2a842ab",
   "metadata": {
    "slideshow": {
     "slide_type": "slide"
    }
   },
   "source": [
    "\n",
    "# Cours 3 : Graphes aléatoires et réseaux\n",
    "\n",
    "**Loïc Grobol** [&lt;lgrobol@parisnanterre.fr>](mailto:lgrobol@parisnanterre.fr)\n",
    "\n",
    "2021-12-06\n"
   ]
  },
  {
   "cell_type": "code",
   "execution_count": null,
   "id": "0816c0a9",
   "metadata": {},
   "outputs": [],
   "source": [
    "from IPython.display import display, Markdown"
   ]
  },
  {
   "cell_type": "markdown",
   "id": "65eabe2d",
   "metadata": {},
   "source": [
    "On pourra visualiser les graphes créés avec [networkx](https://networkx.org)"
   ]
  },
  {
   "cell_type": "code",
   "execution_count": null,
   "id": "b6d7ec90",
   "metadata": {},
   "outputs": [],
   "source": [
    "import networkx as nx"
   ]
  },
  {
   "cell_type": "code",
   "execution_count": null,
   "id": "a83df289",
   "metadata": {},
   "outputs": [],
   "source": [
    "g = nx.Graph({1: [2, 3, 4]})\n",
    "nx.draw_networkx(g)"
   ]
  },
  {
   "cell_type": "code",
   "execution_count": null,
   "id": "0934fc98",
   "metadata": {},
   "outputs": [],
   "source": [
    "g = nx.Graph([(1,2), (2,3), (4, 5)])\n",
    "nx.draw_networkx(g)"
   ]
  },
  {
   "cell_type": "markdown",
   "id": "e1fe3ba0",
   "metadata": {},
   "source": [
    "## Modèle d'Erdős-Rényi\n",
    "\n",
    "1\\. Écrire une fonction en Python qui étant donné un entier $n$ et une probabilité $p$, renvoie un graphe aléatoire d'Erdős–Rényi de paramètre $(n, p)$ sous la forme que vous voulez."
   ]
  },
  {
   "cell_type": "code",
   "execution_count": null,
   "id": "11f2699b",
   "metadata": {},
   "outputs": [],
   "source": [
    "from typing import Dict, Set\n",
    "import random\n",
    "\n",
    "def gen_er_graph(n: int, p: float) -> Dict[int, Set[int]]:\n",
    "    res = {i: set() for i in range(1, n+1)}\n",
    "    for i in range(1, n):\n",
    "        for j in range(i+1, n+1):\n",
    "            if random.random() < p:\n",
    "                res[i].add(j)\n",
    "                res[j].add(i)\n",
    "    return res"
   ]
  },
  {
   "cell_type": "code",
   "execution_count": null,
   "id": "f99d18a5",
   "metadata": {},
   "outputs": [],
   "source": [
    "g = gen_er_graph(32, 0.1)\n",
    "nx.draw_networkx(nx.Graph(g))"
   ]
  },
  {
   "cell_type": "markdown",
   "id": "ea7f0a8c",
   "metadata": {},
   "source": [
    "2\\. Écrire une fonction en Python qui étant donné deux entiers positifs $n$ et $k$ trace la courbe d'évolution de la taille\n",
    "moyenne de la plus grande composante connexe maximale d'un échantillon de $k$ graphes aléatoires d'Erdős–Rényi de\n",
    "paramètre $(n, p)$ pour $p$ allant de $0$ à $1$."
   ]
  },
  {
   "cell_type": "code",
   "execution_count": null,
   "id": "497f7dc7",
   "metadata": {},
   "outputs": [],
   "source": [
    "from typing import List\n",
    "\n",
    "def connex_components(graph: Dict[int, Set[int]]) -> List[List[int]]:\n",
    "    res: List[List[int]] = []\n",
    "    to_visit = [next(iter(graph.keys()))]\n",
    "    visited = set()\n",
    "    current_component = []\n",
    "    while len(visited) < len(graph):\n",
    "        if not to_visit:\n",
    "            res.append(current_component)\n",
    "            current_component = []\n",
    "            current_node = next(n for n in graph.keys() if n not in visited)\n",
    "        else:\n",
    "            current_node = to_visit.pop()\n",
    "            if current_node in visited:\n",
    "                continue\n",
    "        visited.add(current_node)\n",
    "        current_component.append(current_node)\n",
    "        for neighbour in graph[current_node]:\n",
    "            # On pourrait éviter `visited` et se contenter de regarder si les\n",
    "            # voisins sont danc `current_component`\n",
    "            if neighbour in visited:\n",
    "                continue\n",
    "            else:\n",
    "                to_visit.append(neighbour)\n",
    "    res.append(current_component)\n",
    "    return res"
   ]
  },
  {
   "cell_type": "code",
   "execution_count": null,
   "id": "70cf84b2",
   "metadata": {},
   "outputs": [],
   "source": [
    "def er_giant_component_size_average(n: int, p: float, k: int) -> float:\n",
    "    sizes_sum = 0\n",
    "    for _ in range(k):\n",
    "        g = gen_er_graph(n, p)\n",
    "        components = connex_components(g)\n",
    "        size = max(len(c) for c in components)\n",
    "        sizes_sum += size\n",
    "    return sizes_sum / (n*k)"
   ]
  },
  {
   "cell_type": "code",
   "execution_count": null,
   "id": "26349c90",
   "metadata": {},
   "outputs": [],
   "source": [
    "import numpy as np\n",
    "import matplotlib.pyplot as plt\n",
    "\n",
    "P = np.linspace(0, 1, 100)\n",
    "S = [er_giant_component_size_average(128, p, 32) for p in P]\n",
    "plt.plot(P, S)\n",
    "plt.show()"
   ]
  },
  {
   "cell_type": "markdown",
   "id": "acad2386",
   "metadata": {},
   "source": [
    "Le seuil d'explosion de la taille de la composante géante est à $p=\\frac{1}{n}$, on le voit mieux en ne prenant qu'une partie de l'échelle en abscisse :"
   ]
  },
  {
   "cell_type": "code",
   "execution_count": null,
   "id": "aa6fc023",
   "metadata": {},
   "outputs": [],
   "source": [
    "P = np.linspace(0, 4/128, 100)\n",
    "S = [er_giant_component_size_average(128, p, 32) for p in P]\n",
    "plt.plot(P, S)\n",
    "plt.show()"
   ]
  },
  {
   "cell_type": "markdown",
   "id": "deb09b13",
   "metadata": {},
   "source": [
    "3\\. Écrire une fonction en Python qui étant donné deux entiers positifs $n$ et $k$ et $p$ compris entre $0$ et $1$ donne une représentation du nombre moyen de nœuds de degré $d$ en fonction $d$ sur un échantillon de $k$ graphes aléatoires d'Erdős–Rényi de paramètre $(n, p)$."
   ]
  },
  {
   "cell_type": "markdown",
   "id": "998331d3",
   "metadata": {},
   "source": [
    "## Modèle de Barabási–Albert\n",
    "\n",
    "Écrire une fonction en Python qui étant donné deux entiers positifs $m$ et $n$ avec $m<n$, renvoie un graphe alétoire de Barabási–Albert à $n$ nœuds et $m$ nœuds de départ."
   ]
  },
  {
   "cell_type": "markdown",
   "id": "ac8f5d87",
   "metadata": {},
   "source": [
    "## Modèle de Watts–Strogatz\n",
    "\n",
    "Écrire une fonction en Python qui étant donné deux entiers positifs $n$ et $k$ avec $k⩽n$ et un nombre $p$ compris entre $0$ et $1$, renvoie un graphe alétoire de Watts–Strogatz à $n$ nœuds, de degré moyen $k$ et de probabilité de reconnexion $p$."
   ]
  }
 ],
 "metadata": {
  "jupytext": {
   "formats": "ipynb,md",
   "split_at_heading": true
  },
  "kernelspec": {
   "display_name": "Python 3 (ipykernel)",
   "language": "python",
   "name": "python3"
  }
 },
 "nbformat": 4,
 "nbformat_minor": 5
}
